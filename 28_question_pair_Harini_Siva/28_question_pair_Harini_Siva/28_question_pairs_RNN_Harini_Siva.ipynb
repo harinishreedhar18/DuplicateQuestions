{
 "cells": [
  {
   "cell_type": "markdown",
   "metadata": {
    "colab_type": "text",
    "id": "sfLvUZ2XLcT-"
   },
   "source": [
    "#### Import all required libraries"
   ]
  },
  {
   "cell_type": "code",
   "execution_count": 0,
   "metadata": {
    "colab": {},
    "colab_type": "code",
    "id": "-GyKv5HaLcUA"
   },
   "outputs": [],
   "source": [
    "import re\n",
    "import os\n",
    "import json\n",
    "import keras\n",
    "import numpy as np\n",
    "import pandas as pd\n",
    "import keras.backend as K\n",
    "import seaborn as sns\n",
    "import matplotlib.pyplot as plt\n",
    "import nltk\n",
    "nltk.download('stopwords')\n",
    "from nltk.corpus import stopwords\n",
    "from time import time\n",
    "from sklearn.model_selection import train_test_split\n",
    "from keras.models import Model, Sequential\n",
    "from keras.preprocessing.text import Tokenizer\n",
    "from keras.preprocessing.sequence import pad_sequences\n",
    "from keras.layers import Input, Embedding, Dense, LSTM, CuDNNLSTM, Flatten, \\\n",
    "                         Activation, RepeatVector, Permute, Lambda, Bidirectional, \\\n",
    "                         TimeDistributed, Dropout, Layer, GRU, CuDNNGRU\n",
    "from keras.layers.merge import multiply, concatenate\n",
    "from keras.optimizers import Adam, RMSprop\n",
    "from keras.regularizers import l2\n",
    "from keras.callbacks import ModelCheckpoint, EarlyStopping, TensorBoard"
   ]
  },
  {
   "cell_type": "markdown",
   "metadata": {},
   "source": [
    "#### Please uncomment below code if you would like to run the code on google colab."
   ]
  },
  {
   "cell_type": "code",
   "execution_count": 1,
   "metadata": {
    "colab": {
     "base_uri": "https://localhost:8080/",
     "height": 143
    },
    "colab_type": "code",
    "id": "j3v1B3mgLeb9",
    "outputId": "e9ba8e34-389b-4d1b-ca89-2a32fe833914"
   },
   "outputs": [],
   "source": [
    "# from google.colab import drive\n",
    "# drive.mount('/content/drive')\n",
    "# os.chdir('/content/drive/My Drive/Harvard/Data')\n",
    "# os.listdir()"
   ]
  },
  {
   "cell_type": "markdown",
   "metadata": {
    "colab_type": "text",
    "id": "YbhVWY3-LcUL"
   },
   "source": [
    "#### Paths to different file used in this jupyter notebook"
   ]
  },
  {
   "cell_type": "code",
   "execution_count": 0,
   "metadata": {
    "colab": {},
    "colab_type": "code",
    "id": "ApzUMavFLcUN"
   },
   "outputs": [],
   "source": [
    "DATA_FILE_PATH = './questions.csv'\n",
    "CONTRACTIONS_FILE_PATH = './contractions.json'\n",
    "EMBEDDING_FILE = \"./glove.840B.300d.txt\""
   ]
  },
  {
   "cell_type": "code",
   "execution_count": null,
   "metadata": {},
   "outputs": [],
   "source": [
    "# Create empty directories for saving logs and models\n",
    "!mkdir logs\n",
    "!mkdir models"
   ]
  },
  {
   "cell_type": "code",
   "execution_count": 0,
   "metadata": {
    "colab": {},
    "colab_type": "code",
    "id": "YWamkHWSLcUR"
   },
   "outputs": [],
   "source": [
    "# Read data into memory using pandas library as dataframe\n",
    "# Read the contractions file also for performing data cleaning steps\n",
    "data = pd.read_csv(DATA_FILE_PATH)\n",
    "contractions = json.load(open(CONTRACTIONS_FILE_PATH))"
   ]
  },
  {
   "cell_type": "markdown",
   "metadata": {
    "colab_type": "text",
    "id": "7a4oY56BLcUl"
   },
   "source": [
    "#### Sample Data"
   ]
  },
  {
   "cell_type": "code",
   "execution_count": 6,
   "metadata": {
    "colab": {
     "base_uri": "https://localhost:8080/",
     "height": 357
    },
    "colab_type": "code",
    "id": "eowvsDetLcUn",
    "outputId": "327966aa-6002-4efd-9209-91afa39ed633"
   },
   "outputs": [
    {
     "data": {
      "text/html": [
       "<div>\n",
       "<style scoped>\n",
       "    .dataframe tbody tr th:only-of-type {\n",
       "        vertical-align: middle;\n",
       "    }\n",
       "\n",
       "    .dataframe tbody tr th {\n",
       "        vertical-align: top;\n",
       "    }\n",
       "\n",
       "    .dataframe thead th {\n",
       "        text-align: right;\n",
       "    }\n",
       "</style>\n",
       "<table border=\"1\" class=\"dataframe\">\n",
       "  <thead>\n",
       "    <tr style=\"text-align: right;\">\n",
       "      <th></th>\n",
       "      <th>id</th>\n",
       "      <th>qid1</th>\n",
       "      <th>qid2</th>\n",
       "      <th>question1</th>\n",
       "      <th>question2</th>\n",
       "      <th>is_duplicate</th>\n",
       "    </tr>\n",
       "  </thead>\n",
       "  <tbody>\n",
       "    <tr>\n",
       "      <th>0</th>\n",
       "      <td>0</td>\n",
       "      <td>1</td>\n",
       "      <td>2</td>\n",
       "      <td>What is the step by step guide to invest in sh...</td>\n",
       "      <td>What is the step by step guide to invest in sh...</td>\n",
       "      <td>0</td>\n",
       "    </tr>\n",
       "    <tr>\n",
       "      <th>1</th>\n",
       "      <td>1</td>\n",
       "      <td>3</td>\n",
       "      <td>4</td>\n",
       "      <td>What is the story of Kohinoor (Koh-i-Noor) Dia...</td>\n",
       "      <td>What would happen if the Indian government sto...</td>\n",
       "      <td>0</td>\n",
       "    </tr>\n",
       "    <tr>\n",
       "      <th>2</th>\n",
       "      <td>2</td>\n",
       "      <td>5</td>\n",
       "      <td>6</td>\n",
       "      <td>How can I increase the speed of my internet co...</td>\n",
       "      <td>How can Internet speed be increased by hacking...</td>\n",
       "      <td>0</td>\n",
       "    </tr>\n",
       "    <tr>\n",
       "      <th>3</th>\n",
       "      <td>3</td>\n",
       "      <td>7</td>\n",
       "      <td>8</td>\n",
       "      <td>Why am I mentally very lonely? How can I solve...</td>\n",
       "      <td>Find the remainder when [math]23^{24}[/math] i...</td>\n",
       "      <td>0</td>\n",
       "    </tr>\n",
       "    <tr>\n",
       "      <th>4</th>\n",
       "      <td>4</td>\n",
       "      <td>9</td>\n",
       "      <td>10</td>\n",
       "      <td>Which one dissolve in water quikly sugar, salt...</td>\n",
       "      <td>Which fish would survive in salt water?</td>\n",
       "      <td>0</td>\n",
       "    </tr>\n",
       "    <tr>\n",
       "      <th>5</th>\n",
       "      <td>5</td>\n",
       "      <td>11</td>\n",
       "      <td>12</td>\n",
       "      <td>Astrology: I am a Capricorn Sun Cap moon and c...</td>\n",
       "      <td>I'm a triple Capricorn (Sun, Moon and ascendan...</td>\n",
       "      <td>1</td>\n",
       "    </tr>\n",
       "    <tr>\n",
       "      <th>6</th>\n",
       "      <td>6</td>\n",
       "      <td>13</td>\n",
       "      <td>14</td>\n",
       "      <td>Should I buy tiago?</td>\n",
       "      <td>What keeps childern active and far from phone ...</td>\n",
       "      <td>0</td>\n",
       "    </tr>\n",
       "    <tr>\n",
       "      <th>7</th>\n",
       "      <td>7</td>\n",
       "      <td>15</td>\n",
       "      <td>16</td>\n",
       "      <td>How can I be a good geologist?</td>\n",
       "      <td>What should I do to be a great geologist?</td>\n",
       "      <td>1</td>\n",
       "    </tr>\n",
       "    <tr>\n",
       "      <th>8</th>\n",
       "      <td>8</td>\n",
       "      <td>17</td>\n",
       "      <td>18</td>\n",
       "      <td>When do you use シ instead of し?</td>\n",
       "      <td>When do you use \"&amp;\" instead of \"and\"?</td>\n",
       "      <td>0</td>\n",
       "    </tr>\n",
       "    <tr>\n",
       "      <th>9</th>\n",
       "      <td>9</td>\n",
       "      <td>19</td>\n",
       "      <td>20</td>\n",
       "      <td>Motorola (company): Can I hack my Charter Moto...</td>\n",
       "      <td>How do I hack Motorola DCX3400 for free internet?</td>\n",
       "      <td>0</td>\n",
       "    </tr>\n",
       "  </tbody>\n",
       "</table>\n",
       "</div>"
      ],
      "text/plain": [
       "   id  qid1  ...                                          question2 is_duplicate\n",
       "0   0     1  ...  What is the step by step guide to invest in sh...            0\n",
       "1   1     3  ...  What would happen if the Indian government sto...            0\n",
       "2   2     5  ...  How can Internet speed be increased by hacking...            0\n",
       "3   3     7  ...  Find the remainder when [math]23^{24}[/math] i...            0\n",
       "4   4     9  ...            Which fish would survive in salt water?            0\n",
       "5   5    11  ...  I'm a triple Capricorn (Sun, Moon and ascendan...            1\n",
       "6   6    13  ...  What keeps childern active and far from phone ...            0\n",
       "7   7    15  ...          What should I do to be a great geologist?            1\n",
       "8   8    17  ...              When do you use \"&\" instead of \"and\"?            0\n",
       "9   9    19  ...  How do I hack Motorola DCX3400 for free internet?            0\n",
       "\n",
       "[10 rows x 6 columns]"
      ]
     },
     "execution_count": 6,
     "metadata": {
      "tags": []
     },
     "output_type": "execute_result"
    }
   ],
   "source": [
    "data.head(10)"
   ]
  },
  {
   "cell_type": "markdown",
   "metadata": {
    "colab_type": "text",
    "id": "179reT5NLcUu"
   },
   "source": [
    "#### Shape of the data"
   ]
  },
  {
   "cell_type": "code",
   "execution_count": 7,
   "metadata": {
    "colab": {
     "base_uri": "https://localhost:8080/",
     "height": 35
    },
    "colab_type": "code",
    "id": "WI9CC7qILcUv",
    "outputId": "05c938e9-93af-4f69-89dd-e5bb79e46fcf"
   },
   "outputs": [
    {
     "data": {
      "text/plain": [
       "(404351, 6)"
      ]
     },
     "execution_count": 7,
     "metadata": {
      "tags": []
     },
     "output_type": "execute_result"
    }
   ],
   "source": [
    "data.shape"
   ]
  },
  {
   "cell_type": "markdown",
   "metadata": {
    "colab_type": "text",
    "id": "eE_icjxmLcUz"
   },
   "source": [
    "#### Data Analysis\n",
    "    1. Copy data to another variable data1\n",
    "    2. Change 0 and 1 labels in 'is_duplicate' variable to 'Not Duplicate' and 'Duplicate' respectively\n",
    "    3. Create a plot to visualize the number of duplicate and non duplicate questions in the original dataset"
   ]
  },
  {
   "cell_type": "code",
   "execution_count": 8,
   "metadata": {
    "colab": {
     "base_uri": "https://localhost:8080/",
     "height": 657
    },
    "colab_type": "code",
    "id": "7OY1na3mLcU0",
    "outputId": "b9715e3e-e606-4a5c-90ec-ecab65e74e26"
   },
   "outputs": [
    {
     "data": {
      "image/png": "[encoded data removed]",
      "text/plain": [
       "<Figure size 648x648 with 1 Axes>"
      ]
     },
     "metadata": {
      "tags": []
     },
     "output_type": "display_data"
    }
   ],
   "source": [
    "data1 = data.copy()\n",
    "data1.loc[data1.is_duplicate == 0, 'is_duplicate'] = 'Not Duplicate'\n",
    "data1.loc[data1.is_duplicate == 1, 'is_duplicate'] = 'Duplicate'\n",
    "labels, counts = np.unique(data1.is_duplicate, return_counts=True)\n",
    "plt.figure(figsize=(9, 9))\n",
    "plt.xlabel('Label', fontsize=12)\n",
    "plt.ylabel('Count', fontsize=12)\n",
    "bar = plt.bar(labels, counts, align='center')\n",
    "plt.gca().set_xticks(labels)\n",
    "for b in bar:\n",
    "    plt.text(b.get_x() + b.get_width()/2, b.get_height(), '%d' % int(b.get_height()), ha='center', va='bottom', fontsize=12)\n",
    "plt.title('Number of duplicate and unique questions in data set', fontsize=16)\n",
    "plt.tight_layout()\n",
    "plt.show()"
   ]
  },
  {
   "cell_type": "markdown",
   "metadata": {
    "colab_type": "text",
    "id": "OUr2_YkILcVD"
   },
   "source": [
    "Create new variables to measure the number of characters and words in question1 and question2. This analysis helps us in determining the sequence length of RNN cells. Plot the frequency of these new variables to visualize them."
   ]
  },
  {
   "cell_type": "code",
   "execution_count": 0,
   "metadata": {
    "colab": {},
    "colab_type": "code",
    "id": "7lvviL-bLcVL"
   },
   "outputs": [],
   "source": [
    "def char_word_counter(ques):\n",
    "    return len(ques.split())\n",
    "\n",
    "data1['question1'] = data1['question1'].fillna(\"\")\n",
    "data1['question2'] = data1['question2'].fillna(\"\")\n",
    "data1.loc[:, 'question1_word_count'] = data1.loc[:, 'question1'].apply(char_word_counter)\n",
    "data1.loc[:, 'question1_char_count'] = data1.loc[:, 'question1'].apply(len)\n",
    "data1.loc[:, 'question2_word_count'] = data1.loc[:, 'question2'].apply(char_word_counter)\n",
    "data1.loc[:, 'question2_char_count'] = data1.loc[:, 'question2'].apply(len)\n",
    "\n",
    "word_counter = data1.question1_word_count.append(data1.question2_word_count)\n",
    "char_counter = data1.question1_char_count.append(data1.question2_char_count)"
   ]
  },
  {
   "cell_type": "markdown",
   "metadata": {
    "colab_type": "text",
    "id": "EAhhPS_ULcVP"
   },
   "source": [
    "#### Plot distribution of number of words present in each question."
   ]
  },
  {
   "cell_type": "code",
   "execution_count": 10,
   "metadata": {
    "colab": {
     "base_uri": "https://localhost:8080/",
     "height": 585
    },
    "colab_type": "code",
    "id": "tAaT09hBLcVR",
    "outputId": "98af665e-713d-408c-fb3c-f5f89bfa84c2"
   },
   "outputs": [
    {
     "data": {
      "image/png": "[encoded data removed]",
      "text/plain": [
       "<Figure size 1152x576 with 1 Axes>"
      ]
     },
     "metadata": {
      "tags": []
     },
     "output_type": "display_data"
    }
   ],
   "source": [
    "labels, counts = np.unique(word_counter, return_counts=True)\n",
    "plt.figure(figsize=(16, 8))\n",
    "plt.xlabel('Word Count', fontsize=14)\n",
    "plt.ylabel('Count', fontsize=14)\n",
    "bar = plt.bar(labels, counts, align='center', color='green')\n",
    "plt.title('Distribution of number of words in each question', fontsize=16)\n",
    "plt.tight_layout()\n",
    "plt.show()"
   ]
  },
  {
   "cell_type": "markdown",
   "metadata": {
    "colab_type": "text",
    "id": "o4HTLEXfLcVV"
   },
   "source": [
    "#### Plot distribution of number of characters present in each question."
   ]
  },
  {
   "cell_type": "code",
   "execution_count": 11,
   "metadata": {
    "colab": {
     "base_uri": "https://localhost:8080/",
     "height": 585
    },
    "colab_type": "code",
    "id": "jKveXraALcVZ",
    "outputId": "b6dca075-7509-4fb4-9900-16a34228920c"
   },
   "outputs": [
    {
     "data": {
      "image/png": "[encoded data removed]",
      "text/plain": [
       "<Figure size 1152x576 with 1 Axes>"
      ]
     },
     "metadata": {
      "tags": []
     },
     "output_type": "display_data"
    }
   ],
   "source": [
    "labels, counts = np.unique(char_counter, return_counts=True)\n",
    "plt.figure(figsize=(16, 8))\n",
    "plt.xlabel('Character Count', fontsize=14)\n",
    "plt.ylabel('Count', fontsize=14)\n",
    "bar = plt.bar(labels, counts, align='center', color='brown')\n",
    "plt.title('Distribution of number of characters in each question', fontsize=16)\n",
    "plt.tight_layout()\n",
    "plt.show()"
   ]
  },
  {
   "cell_type": "markdown",
   "metadata": {
    "colab_type": "text",
    "id": "lzvGObAwLcVn"
   },
   "source": [
    "1. MIN_WORD_OCCURRENCE indicates how many times a word should be present in the data before it is added to vocabulary.\n",
    "2. REPLACE_WORD indicates the token that should be replaced with if an unknown word comes during testing phase.\n",
    "3. EMBEDDING_DIM is the embedding dimension.\n",
    "4. MAX_SEN_LEN indicates maximum length of the sentence. If a question is above this length, remaining words a cutoff."
   ]
  },
  {
   "cell_type": "code",
   "execution_count": 0,
   "metadata": {
    "colab": {},
    "colab_type": "code",
    "id": "4Wi193omLcVu"
   },
   "outputs": [],
   "source": [
    "MIN_WORD_OCCURRENCE = 1\n",
    "REPLACE_WORD = \"UNK\"\n",
    "# EMBEDDING_FILE = \"./glove.840B.300d.txt\"\n",
    "EMBEDDING_DIM = 300\n",
    "MAX_SEN_LEN = 20"
   ]
  },
  {
   "cell_type": "markdown",
   "metadata": {
    "colab_type": "text",
    "id": "D51an9sbLcVx"
   },
   "source": [
    "#### Data augmentation\n",
    "In this step, we tried to increase the number of duplicate records by creating questions matching with the same question. This process is done for duplicate questions of fields question1 and question2 only. It helped in creating more number of duplicate questions in the dataset."
   ]
  },
  {
   "cell_type": "code",
   "execution_count": 0,
   "metadata": {
    "colab": {},
    "colab_type": "code",
    "id": "IIJydHqCLcVy"
   },
   "outputs": [],
   "source": [
    "def data_augmentation(data):\n",
    "    temp_df1 = data[data['is_duplicate'] == 1].reset_index(drop=True)[['id', 'question1']]\n",
    "    temp_df1.rename(columns={'id': 'qid1'}, inplace=True)\n",
    "    temp_df1.insert(1, 'qid2', temp_df1['qid1'])\n",
    "    temp_df1.insert(0, 'id', range(data.shape[0], data.shape[0] + len(temp_df1)))\n",
    "    temp_df1['question2'] = temp_df1['question1'] \n",
    "    temp_df1['is_duplicate'] = 1\n",
    "    \n",
    "    temp_df2 = data[data['is_duplicate'] == 1].reset_index(drop=True)[['id', 'question2']]\n",
    "    temp_df2.rename(columns={'id': 'qid2'}, inplace=True)\n",
    "    temp_df2.insert(0, 'qid1', temp_df2['qid2'])\n",
    "    temp_df2.insert(0, 'id', range(data.shape[0] + temp_df1.shape[0],\n",
    "                                   data.shape[0] + temp_df1.shape[0] + len(temp_df2)))\n",
    "    temp_df2.insert(3, 'question1', temp_df2['question2'])\n",
    "    temp_df2['is_duplicate'] = 1\n",
    "    \n",
    "    data = pd.concat([data, temp_df1, temp_df2]).reset_index(drop=True)\n",
    "    return data"
   ]
  },
  {
   "cell_type": "markdown",
   "metadata": {
    "colab_type": "text",
    "id": "BgQ5wsVpLcV1"
   },
   "source": [
    "### Data Cleaning:\n",
    "1.\tIn the first stage, we converted all the text to lower case.\n",
    "2.\tWe converted all the words such as “I’m”, “we’ve” to “I am”, “we have” respectively. This process is named as contraction process in this process.\n",
    "3.\tThen, we replaced all types of empty characters to a single white space character.\n",
    "4.\tWe then removed any character other than alphabets from the text.\n",
    "5.\tRemoved all the stop words from the text."
   ]
  },
  {
   "cell_type": "code",
   "execution_count": 0,
   "metadata": {
    "colab": {},
    "colab_type": "code",
    "id": "oxUwOHK4LcV2"
   },
   "outputs": [],
   "source": [
    "def data_preprocess(question):\n",
    "    question = question.lower()\n",
    "    question = contraction_process(question)\n",
    "    question = re.sub(r'\\W+', ' ', question)\n",
    "    question = re.sub('[^a-zA-Z ]+', '', question)\n",
    "    question = ' '.join([word for word in question.split() if not word in set(stopwords.words('english'))])\n",
    "    return question\n",
    "\n",
    "def contraction_process(question):\n",
    "    for word in question.split():\n",
    "        if word in contractions:\n",
    "            question = question.replace(word, contractions[word.lower()])\n",
    "    return question"
   ]
  },
  {
   "cell_type": "markdown",
   "metadata": {
    "colab_type": "text",
    "id": "TPpnv_HzLcWG"
   },
   "source": [
    "Create embedding index for each word present in the embedding file. First we need to open the file and iteratively read contents in each line so that the first word is the line is the word that shoud be added as key to embeddings_index dictionary and the embedding vector of that word as value to the same dictionary."
   ]
  },
  {
   "cell_type": "code",
   "execution_count": 0,
   "metadata": {
    "colab": {},
    "colab_type": "code",
    "id": "8MvMq92OLcWI"
   },
   "outputs": [],
   "source": [
    "def get_embeddings(file=EMBEDDING_FILE, dim=EMBEDDING_DIM):\n",
    "    embeddings_index = {}\n",
    "    f = open(file, encoding='utf-8')\n",
    "    for line in f:\n",
    "        values = line.split()\n",
    "        if len(values) == dim + 1:\n",
    "          word = values[0]\n",
    "          coefs = np.asarray(values[1:], dtype=\"float32\")\n",
    "          embeddings_index[word] = coefs\n",
    "    f.close()\n",
    "    return embeddings_index\n",
    "\n",
    "embeddings_index = get_embeddings()"
   ]
  },
  {
   "cell_type": "markdown",
   "metadata": {
    "colab_type": "text",
    "id": "O37wgIsELcWf"
   },
   "source": [
    "In the next step we need to create an big matrix by intialization all the values to zeros and then iteratively add values of each word from embeddngs_index to this matrix. This matrix is used in the siamese neural network."
   ]
  },
  {
   "cell_type": "markdown",
   "metadata": {
    "colab_type": "text",
    "id": "kyMxgegFLcWj"
   },
   "source": [
    "Call Data augmentation function to create more data."
   ]
  },
  {
   "cell_type": "code",
   "execution_count": 18,
   "metadata": {
    "colab": {
     "base_uri": "https://localhost:8080/",
     "height": 35
    },
    "colab_type": "code",
    "id": "0UqfikSuLcWk",
    "outputId": "1fc9335f-ce4c-4efd-ee8f-aebc2a6431cb"
   },
   "outputs": [
    {
     "data": {
      "text/plain": [
       "(702963, 6)"
      ]
     },
     "execution_count": 18,
     "metadata": {
      "tags": []
     },
     "output_type": "execute_result"
    }
   ],
   "source": [
    "data = data_augmentation(data)\n",
    "data.shape"
   ]
  },
  {
   "cell_type": "markdown",
   "metadata": {
    "colab_type": "text",
    "id": "9E431rePLcWp"
   },
   "source": [
    "Complete data preprocessing steps by calling respective functions."
   ]
  },
  {
   "cell_type": "code",
   "execution_count": 23,
   "metadata": {
    "colab": {
     "base_uri": "https://localhost:8080/",
     "height": 52
    },
    "colab_type": "code",
    "id": "597xu1nQLcWr",
    "outputId": "577c49d8-f053-4017-e648-96ee926ac1dc"
   },
   "outputs": [
    {
     "name": "stdout",
     "output_type": "stream",
     "text": [
      "[nltk_data] Downloading package stopwords to /root/nltk_data...\n",
      "[nltk_data]   Unzipping corpora/stopwords.zip.\n"
     ]
    }
   ],
   "source": [
    "# Create a copy of the main data and apply data prepocessing steps on question1 and question2\n",
    "df = data.copy()\n",
    "df.loc[:, 'cleaned1'] = df.loc[:, 'question1'].fillna('')\n",
    "df.loc[:, 'cleaned2'] = df.loc[:, 'question2'].fillna('')\n",
    "df.loc[:, 'cleaned1'] = df.loc[:, 'cleaned1'].apply(data_preprocess)\n",
    "df.loc[:, 'cleaned2'] = df.loc[:, 'cleaned2'].apply(data_preprocess)"
   ]
  },
  {
   "cell_type": "markdown",
   "metadata": {
    "colab_type": "text",
    "id": "KQq87LDZLcW5"
   },
   "source": [
    "**Creating embedding matrix:**\n",
    "1.\tFirst step in creating the embedding matrix is to first create indices for all the words present in the Glove embedding file. We need to open the file and read line by line. \n",
    "2.\tIn each line needs to be split by space. First word should be added to the dictionary as key and the vector should be added to the value.\n",
    "3.\tOnce the embedding indices are created we need to iterate through the question1 and question2 and create tokens.\n",
    "4.\tOnce the tokens are created, we need to search for these tokens in the embedding indices and add them to an embedding matrix.\n",
    "5.\tThis embedding matrix will act as input to the Siamese neural network.\n"
   ]
  },
  {
   "cell_type": "code",
   "execution_count": 0,
   "metadata": {
    "colab": {},
    "colab_type": "code",
    "id": "0eH2jDs4LcXB"
   },
   "outputs": [],
   "source": [
    "MAX_FEATURES = 100000\n",
    "tokenizer = Tokenizer(filters=\"\", num_words=MAX_FEATURES)\n",
    "tokenizer.fit_on_texts(df.cleaned1.values + df.cleaned2.values)\n",
    "word_index = tokenizer.word_index\n",
    "VOCAB_SIZE = min(len(word_index) + 1, MAX_FEATURES)\n",
    "\n",
    "def create_embedding_matrix():\n",
    "    embedding_matrix = np.zeros((VOCAB_SIZE, EMBEDDING_DIM))\n",
    "    for word, i in word_index.items():\n",
    "        if i >= MAX_FEATURES: continue\n",
    "        embedding_vector = embeddings_index.get(word)\n",
    "        if embedding_vector is not None:\n",
    "            embedding_matrix[i] = embedding_vector\n",
    "    return embedding_matrix\n",
    "\n",
    "embedding_matrix = create_embedding_matrix()"
   ]
  },
  {
   "cell_type": "markdown",
   "metadata": {
    "colab_type": "text",
    "id": "nmUc_g8mLcXE"
   },
   "source": [
    "#### Pad input sequences. Here we used post padding and the maximum length of each sequence for RNN cell is 20 tokens"
   ]
  },
  {
   "cell_type": "code",
   "execution_count": 0,
   "metadata": {
    "colab": {},
    "colab_type": "code",
    "id": "6zAIvC4tLcXF"
   },
   "outputs": [],
   "source": [
    "data_1 = pad_sequences(tokenizer.texts_to_sequences(df.cleaned1), maxlen=MAX_SEN_LEN, padding='post')\n",
    "data_2 = pad_sequences(tokenizer.texts_to_sequences(df.cleaned2), maxlen=MAX_SEN_LEN, padding='post')"
   ]
  },
  {
   "cell_type": "markdown",
   "metadata": {
    "colab_type": "text",
    "id": "vTxkLqrPLcXI"
   },
   "source": [
    "#### Create Batch_size and other global variables for training purpose"
   ]
  },
  {
   "cell_type": "code",
   "execution_count": 0,
   "metadata": {
    "colab": {},
    "colab_type": "code",
    "id": "8V6y3Op7LcXI"
   },
   "outputs": [],
   "source": [
    "BATCH_SIZE = 256\n",
    "NUM_EPOCHS = 10\n",
    "NUM_RNN_UNITS = 512"
   ]
  },
  {
   "cell_type": "markdown",
   "metadata": {
    "colab_type": "text",
    "id": "JBZiIFD-LcXL"
   },
   "source": [
    "Create first LSTM layer as function so that it can be initialized with different types of cells depending on whether there is gpu or not"
   ]
  },
  {
   "cell_type": "code",
   "execution_count": 0,
   "metadata": {
    "colab": {},
    "colab_type": "code",
    "id": "khQEa9geLcXO"
   },
   "outputs": [],
   "source": [
    "def lstm(units):\n",
    "    if len(K.tensorflow_backend._get_available_gpus()):\n",
    "        return CuDNNLSTM(units,\n",
    "                         recurrent_initializer='glorot_uniform',\n",
    "                         return_sequences=True,\n",
    "                         recurrent_regularizer=l2(l=0.01))\n",
    "    else:\n",
    "        return LSTM(units,\n",
    "                    recurrent_activation='sigmoid',\n",
    "                    recurrent_initializer='glorot_uniform',\n",
    "                    return_sequences=True,\n",
    "                    recurrent_dropout=0.2,\n",
    "                    recurrent_regularizer=l2(l=0.01))"
   ]
  },
  {
   "cell_type": "markdown",
   "metadata": {
    "colab_type": "text",
    "id": "D9C8nnOMLcXS"
   },
   "source": [
    "Create first GRU layer as function so that it can be initialized with different types of cells depending on whether there is gpu or not"
   ]
  },
  {
   "cell_type": "code",
   "execution_count": 0,
   "metadata": {
    "colab": {},
    "colab_type": "code",
    "id": "TybLuRJ7LcXT"
   },
   "outputs": [],
   "source": [
    "def gru(units):\n",
    "    if len(K.tensorflow_backend._get_available_gpus()):\n",
    "        return CuDNNGRU(units,\n",
    "                         recurrent_initializer='glorot_uniform',\n",
    "                         return_sequences=True,\n",
    "                         recurrent_regularizer=l2(l=0.01))\n",
    "    else:\n",
    "        return GRU(units,\n",
    "                    recurrent_activation='sigmoid',\n",
    "                    recurrent_initializer='glorot_uniform',\n",
    "                    return_sequences=True,\n",
    "                    recurrent_dropout=0.2,\n",
    "                    recurrent_regularizer=l2(l=0.01))"
   ]
  },
  {
   "cell_type": "markdown",
   "metadata": {
    "colab_type": "text",
    "id": "H1YCH0klLcXY"
   },
   "source": [
    "Create embedding layer for input of siamese network"
   ]
  },
  {
   "cell_type": "code",
   "execution_count": 0,
   "metadata": {
    "colab": {},
    "colab_type": "code",
    "id": "iTCvuUPFLcXZ"
   },
   "outputs": [],
   "source": [
    "# Create embeddin layer with VOCAB SIze and 300 embedding dimentions. We need to pass the embedded matrix created from\n",
    "# Stanford GLOVE model to this layer. This will pre process all the text before RNN layer consume output from this layer.\n",
    "def create_embedding_layer(VOCAB_SIZE, EMBEDDING_DIM, MAXIMUM_LENGTH, embedding_matrix):\n",
    "    embedding_layer = Embedding(input_dim = VOCAB_SIZE,\n",
    "                                output_dim = EMBEDDING_DIM,\n",
    "                                input_length = MAXIMUM_LENGTH,\n",
    "                                weights = [embedding_matrix],\n",
    "                                trainable = False)\n",
    "    return embedding_layer"
   ]
  },
  {
   "cell_type": "markdown",
   "metadata": {
    "colab_type": "text",
    "id": "vUBx1HziLcXb"
   },
   "source": [
    "#### Base Network:\n",
    "1. Here we created a based network depending on different configurations of RNN cells. THey can be either LSTM or GRU and single layer or double layers and unidirectional or bidirectional\n",
    "2. We have used bandhau attention.\n",
    "\n",
    "We created network with two types of main RNN cells. One is Gated Recurrent Units (GRU) and Long Short-Term Memory (LSTM) cells. We tested both unidirectional and bidirectional cells to see the performance of the model. In each recurrent unit we have added regularization to reduce overfitting of the model. Base Siamese network is created with single layer RNN units and two layers RNN units. To reduce over fitting of the model, we added dropout layer. We added Bahdanau attention to further improve performance of the model."
   ]
  },
  {
   "cell_type": "markdown",
   "metadata": {
    "colab_type": "text",
    "id": "ce2dUj3VLcXc"
   },
   "source": [
    "#### Single Layer GRU Network"
   ]
  },
  {
   "cell_type": "code",
   "execution_count": 0,
   "metadata": {
    "colab": {},
    "colab_type": "code",
    "id": "3ixPEgAALcXd"
   },
   "outputs": [],
   "source": [
    "# This is base network that will used across all the models with minor modifications with respect to number of layer in the network\n",
    "# and type of RNN layer.\n",
    "# First the text of fixed length is passed to the embedding layer which will create vector of contexts.\n",
    "# Then this input is passed through the RNN cells\n",
    "# Immediately dropout layer is applied so that overfitting can be reduced during training.\n",
    "# We need to flatten this output.\n",
    "# Attention is applied by applying softmax functions and then repeating this for all the RNN cells\n",
    "# We multiply the x1 and x2 to get results after attention.\n",
    "\n",
    "def single_gru_network(_input):\n",
    "    embedded = create_embedding_layer(VOCAB_SIZE, EMBEDDING_DIM, MAX_SEN_LEN, embedding_matrix)(_input)\n",
    "    x1 = gru(NUM_RNN_UNITS)(embedded)\n",
    "    x1 = Dropout(0.2)(x1)\n",
    "    x2 = TimeDistributed(Dense(1, activation='tanh'))(x1)\n",
    "    x2 = Flatten()(x2)\n",
    "    x2 = Activation('softmax')(x2)\n",
    "    x2 = RepeatVector(NUM_RNN_UNITS * 1)(x2)\n",
    "    x2 = Permute([2, 1]) (x2)\n",
    "    x3 = multiply([x1, x2])\n",
    "    x3 = Lambda(lambda xin: K.sum(xin, axis=1))(x3)\n",
    "    return x3"
   ]
  },
  {
   "cell_type": "markdown",
   "metadata": {
    "colab_type": "text",
    "id": "4SREk_G0LcXg"
   },
   "source": [
    "#### Single Layer LSTM Network"
   ]
  },
  {
   "cell_type": "code",
   "execution_count": 0,
   "metadata": {
    "colab": {},
    "colab_type": "code",
    "id": "IMYHnOndLcXh"
   },
   "outputs": [],
   "source": [
    "def single_lstm_network(_input):\n",
    "    embedded = create_embedding_layer(VOCAB_SIZE, EMBEDDING_DIM, MAX_SEN_LEN, embedding_matrix)(_input)\n",
    "    x1 = lstm(NUM_RNN_UNITS)(embedded)\n",
    "    x1 = Dropout(0.2)(x1)\n",
    "    x2 = TimeDistributed(Dense(1, activation='tanh'))(x1)\n",
    "    x2 = Flatten()(x2)\n",
    "    x2 = Activation('softmax')(x2)\n",
    "    x2 = RepeatVector(NUM_RNN_UNITS * 1)(x2)\n",
    "    x2 = Permute([2, 1]) (x2)\n",
    "    x3 = multiply([x1, x2])\n",
    "    x3 = Lambda(lambda xin: K.sum(xin, axis=1))(x3)\n",
    "    return x3"
   ]
  },
  {
   "cell_type": "markdown",
   "metadata": {
    "colab_type": "text",
    "id": "9r6G4rbeLcXl"
   },
   "source": [
    "#### Two Layer GRU Network"
   ]
  },
  {
   "cell_type": "code",
   "execution_count": 0,
   "metadata": {
    "colab": {},
    "colab_type": "code",
    "id": "-54uBao8LcXm"
   },
   "outputs": [],
   "source": [
    "def double_gru_network(_input):\n",
    "    embedded = create_embedding_layer(VOCAB_SIZE, EMBEDDING_DIM, MAX_SEN_LEN, embedding_matrix)(_input)\n",
    "    x1 = gru(NUM_RNN_UNITS)(embedded)\n",
    "    x1 = gru(NUM_RNN_UNITS)(x1)\n",
    "    x1 = Dropout(0.2)(x1)\n",
    "    x2 = TimeDistributed(Dense(1, activation='tanh'))(x1)\n",
    "    x2 = Flatten()(x2)\n",
    "    x2 = Activation('softmax')(x2)\n",
    "    x2 = RepeatVector(NUM_RNN_UNITS * 1)(x2)\n",
    "    x2 = Permute([2, 1]) (x2)\n",
    "    x3 = multiply([x1, x2])\n",
    "    x3 = Lambda(lambda xin: K.sum(xin, axis=1))(x3)\n",
    "    return x3"
   ]
  },
  {
   "cell_type": "markdown",
   "metadata": {
    "colab_type": "text",
    "id": "ZhBgyZopLcXo"
   },
   "source": [
    "#### Two Layer LSTM Network"
   ]
  },
  {
   "cell_type": "code",
   "execution_count": 0,
   "metadata": {
    "colab": {},
    "colab_type": "code",
    "id": "Qiw8cFTFLcXp"
   },
   "outputs": [],
   "source": [
    "def double_lstm_network(_input):\n",
    "    embedded = create_embedding_layer(VOCAB_SIZE, EMBEDDING_DIM, MAX_SEN_LEN, embedding_matrix)(_input)\n",
    "    x1 = lstm(NUM_RNN_UNITS)(embedded)\n",
    "    x1 = lstm(NUM_RNN_UNITS)(x1)\n",
    "    x1 = Dropout(0.2)(x1)\n",
    "    x2 = TimeDistributed(Dense(1, activation='tanh'))(x1)\n",
    "    x2 = Flatten()(x2)\n",
    "    x2 = Activation('softmax')(x2)\n",
    "    x2 = RepeatVector(NUM_RNN_UNITS * 1)(x2)\n",
    "    x2 = Permute([2, 1]) (x2)\n",
    "    x3 = multiply([x1, x2])\n",
    "    x3 = Lambda(lambda xin: K.sum(xin, axis=1))(x3)\n",
    "    return x3"
   ]
  },
  {
   "cell_type": "markdown",
   "metadata": {
    "colab_type": "text",
    "id": "RyLZB5uVLcXr"
   },
   "source": [
    "#### Single Layer Bidirectional LSTM Network"
   ]
  },
  {
   "cell_type": "code",
   "execution_count": 0,
   "metadata": {
    "colab": {},
    "colab_type": "code",
    "id": "wisSw3uCLcXs"
   },
   "outputs": [],
   "source": [
    "def single_bidirectional_lstm_network(_input):\n",
    "    embedded = create_embedding_layer(VOCAB_SIZE, EMBEDDING_DIM, MAX_SEN_LEN, embedding_matrix)(_input)\n",
    "    x1 = Bidirectional(lstm(NUM_RNN_UNITS), merge_mode='concat')(embedded)\n",
    "    x1 = Dropout(0.2)(x1)\n",
    "    x2 = TimeDistributed(Dense(1, activation='tanh'))(x1)\n",
    "    x2 = Flatten()(x2)\n",
    "    x2 = Activation('softmax')(x2)\n",
    "    x2 = RepeatVector(NUM_RNN_UNITS * 2)(x2)\n",
    "    x2 = Permute([2, 1]) (x2)\n",
    "    x3 = multiply([x1, x2])\n",
    "    x3 = Lambda(lambda xin: K.sum(xin, axis=1))(x3)\n",
    "    return x3"
   ]
  },
  {
   "cell_type": "markdown",
   "metadata": {
    "colab_type": "text",
    "id": "mX4LQEGhLcXu"
   },
   "source": [
    "#### Two Layer Bidirectional LSTM Network"
   ]
  },
  {
   "cell_type": "code",
   "execution_count": 0,
   "metadata": {
    "colab": {},
    "colab_type": "code",
    "id": "vJ82RP3yLcXu"
   },
   "outputs": [],
   "source": [
    "def double_bidirectional_lstm_network(_input):\n",
    "    embedded = create_embedding_layer(VOCAB_SIZE, EMBEDDING_DIM, MAX_SEN_LEN, embedding_matrix)(_input)\n",
    "    x1 = Bidirectional(lstm(NUM_RNN_UNITS), merge_mode='concat')(embedded)\n",
    "    x1 = Bidirectional(lstm(NUM_RNN_UNITS), merge_mode='concat')(x1)\n",
    "    x1 = Dropout(0.2)(x1)\n",
    "    x2 = TimeDistributed(Dense(1, activation='tanh'))(x1)\n",
    "    x2 = Flatten()(x2)\n",
    "    x2 = Activation('softmax')(x2)\n",
    "    x2 = RepeatVector(NUM_RNN_UNITS * 2)(x2)\n",
    "    x2 = Permute([2, 1]) (x2)\n",
    "    x3 = multiply([x1, x2])\n",
    "    x3 = Lambda(lambda xin: K.sum(xin, axis=1))(x3)\n",
    "    return x3"
   ]
  },
  {
   "cell_type": "markdown",
   "metadata": {
    "colab_type": "text",
    "id": "sIyrYsYnLcXw"
   },
   "source": [
    "#### Loss Functions:\n",
    "As shown in the paper, we tried to create four different loss functions.\n",
    "    1.\tEuclidean Distance \n",
    "    2.\tManhattan Distance\n",
    "    3.\tWeighted Manhattan Distance\n",
    "    4.\tCosine Similarity\n",
    "    5.\tCustom SoftMax Loss Function*\n",
    "\n",
    "* Tried creating Custom SoftMax Loss function which showed superior results when compared to other loss functions. But we couldn’t successfully write code for this loss function due to input/output shape compatibility issues. We used Weighted Manhattan Distance in all our models"
   ]
  },
  {
   "cell_type": "code",
   "execution_count": 0,
   "metadata": {
    "colab": {},
    "colab_type": "code",
    "id": "jDaZsErYLcXy"
   },
   "outputs": [],
   "source": [
    "class EuclideanDist(Layer):\n",
    "\n",
    "    def __init__(self, **kwargs):\n",
    "        self.result = None\n",
    "        super(EuclideanDist, self).__init__(**kwargs)\n",
    "\n",
    "    def build(self, input_shape):\n",
    "        super(EuclideanDist, self).build(input_shape)\n",
    "\n",
    "    def call(self, x, **kwargs):\n",
    "        self.result = K.sqrt(K.maximum(K.sum(K.square(x[0] - x[1]), axis=1, keepdims=True), K.epsilon()))\n",
    "        return self.result\n",
    "\n",
    "    def compute_output_shape(self, input_shape):\n",
    "        return K.int_shape(self.result)\n",
    "    \n",
    "    \n",
    "class ManhattanDist(Layer):\n",
    "\n",
    "    def __init__(self, **kwargs):\n",
    "        self.result = None\n",
    "        super(ManhattanDist, self).__init__(**kwargs)\n",
    "\n",
    "    def build(self, input_shape):\n",
    "        super(ManhattanDist, self).build(input_shape)\n",
    "\n",
    "    def call(self, x, **kwargs):\n",
    "        self.result = K.sum(K.abs(x[0] - x[1]), axis=1, keepdims=True)\n",
    "        return self.result\n",
    "\n",
    "    def compute_output_shape(self, input_shape):\n",
    "        return K.int_shape(self.result)\n",
    "    \n",
    "    \n",
    "class WeigthedManhattanDist(Layer):\n",
    "\n",
    "    def __init__(self, **kwargs):\n",
    "        self.result = None\n",
    "        super(WeigthedManhattanDist, self).__init__(**kwargs)\n",
    "\n",
    "    def build(self, input_shape):\n",
    "        self.weight = self.add_weight(name='trainable_weight', shape=(1, ), initializer='he_normal', trainable=True)\n",
    "        super(WeigthedManhattanDist, self).build(input_shape)\n",
    "\n",
    "    def call(self, x, **kwargs):\n",
    "        self.result = self.weight * K.sum(K.abs(x[0] - x[1]), axis=1, keepdims=True)\n",
    "        return self.result\n",
    "\n",
    "    def compute_output_shape(self, input_shape):\n",
    "        return K.int_shape(self.result)\n",
    "    \n",
    "class CosineSimilarity(Layer):\n",
    "\n",
    "    def __init__(self, **kwargs):\n",
    "        self.result = None\n",
    "        super(CosineSimilarity, self).__init__(**kwargs)\n",
    "\n",
    "    def build(self, input_shape):\n",
    "        super(CosineSimilarity, self).build(input_shape)\n",
    "\n",
    "    def call(self, x, **kwargs):\n",
    "        normalized_x1 = K.l2_normalize(x[0], axis=-1)\n",
    "        normalized_x2 = K.l2_normalize(x[1], axis=-1)\n",
    "        self.result = -K.mean(normalized_x1 * normalized_x2, axis=-1, keepdims=True)\n",
    "        return self.result\n",
    "\n",
    "    def compute_output_shape(self, input_shape):\n",
    "        return K.int_shape(self.result)\n",
    "     \n",
    "# class SoftMaxCustomLoss(Layer):\n",
    "#     def __init__(self, **kwargs):\n",
    "#         self.result = None\n",
    "#         super(SoftMaxCustomLoss, self).__init__(**kwargs)\n",
    "\n",
    "#     def build(self, input_shape):\n",
    "#         self.weight = self.add_weight(name='trainable_weight', shape=(input_shape[0][1] * 4, 2), initializer='he_normal',\n",
    "#                                       trainable=True)\n",
    "#         self.bias = self.add_weight(name='trainable_bias', shape=(2, ), initializer='zeros', trainable=True)\n",
    "#         super(SoftMaxCustomLoss, self).build(input_shape)\n",
    "\n",
    "#     def call(self, x, **kwargs):\n",
    "#         vector1 = x[0]\n",
    "#         vector2 = x[1]\n",
    "#         vector3 = K.square(x[0] - x[1])\n",
    "#         vector4 = K.dot(x[0], x[1])\n",
    "#         vector = concatenate([vector1, vector2, vector3, vector4])\n",
    "#         self.result = K.softmax(K.bias_add(K.dot(K.relu(vector), self.weight), self.bias))\n",
    "#         return self.result\n",
    "\n",
    "#     def compute_output_shape(self, input_shape):\n",
    "#         return K.int_shape(self.result)"
   ]
  },
  {
   "cell_type": "markdown",
   "metadata": {
    "colab_type": "text",
    "id": "bjj78gMYLcX0"
   },
   "source": [
    "### Evaluation Metrics:"
   ]
  },
  {
   "cell_type": "code",
   "execution_count": 0,
   "metadata": {
    "colab": {},
    "colab_type": "code",
    "id": "9Sh6nVFcLcX1"
   },
   "outputs": [],
   "source": [
    "#  Recall is the ratio of correctly predicted positive observations to the all observations in actual class - yes.\n",
    "# Precision is the ratio of correctly predicted positive observations to the total predicted positive observations.\n",
    "# F1 Score is the weighted average of Precision and Recall. \n",
    "# Therefore, this score takes both false positives and false negatives into account. \n",
    "# Intuitively it is not as easy to understand as accuracy, but F1 is usually more useful than accuracy,\n",
    "# especially if you have an uneven class distribution. Accuracy works best if false positives and false negatives \n",
    "# have similar cost. If the cost of false positives and false negatives are very different, \n",
    "# it’s better to look at both Precision and Recall.\n",
    "\n",
    "# Source: https://blog.exsilio.com/all/accuracy-precision-recall-f1-score-interpretation-of-performance-measures/\n",
    "\n",
    "def recall_(y_true, y_pred):\n",
    "        true_positives = K.sum(K.round(K.clip(y_true * y_pred, 0, 1)))\n",
    "        possible_positives = K.sum(K.round(K.clip(y_true, 0, 1)))\n",
    "        recall = true_positives / (possible_positives + K.epsilon())\n",
    "        return recall\n",
    "\n",
    "def precision_(y_true, y_pred):\n",
    "        true_positives = K.sum(K.round(K.clip(y_true * y_pred, 0, 1)))\n",
    "        predicted_positives = K.sum(K.round(K.clip(y_pred, 0, 1)))\n",
    "        precision = true_positives / (predicted_positives + K.epsilon())\n",
    "        return precision\n",
    "\n",
    "def F1_score_(y_true, y_pred):\n",
    "    precision = precision_(y_true, y_pred)\n",
    "    recall = recall_(y_true, y_pred)\n",
    "    return 2*((precision * recall)/(precision + recall + K.epsilon()))"
   ]
  },
  {
   "cell_type": "markdown",
   "metadata": {
    "colab_type": "text",
    "id": "kxMNaVXjLcX4"
   },
   "source": [
    "#### Training Model:\n",
    "\n",
    "We ran the model with a batch size of 256 for 10 epochs. The number of RNN units used in the model are 256. We optimized the neural network using Adam optimizer. We calculated different metrics like accuracy, F1 score, precision and recall.\n",
    "\n",
    "We first split the data into train validation and test sets in 80:20 ratio. We again split train validation in ration of 80:20 ratio.\n",
    "\n",
    "The model is saved which has best weights. An early stopping call back is placed so that if there is no improvement in the model performance after 3 continuous epochs, the training stops and model with lowest validation loss are saved. The tensor board logs are also saved in logs directory.\n",
    "\n",
    "The change in loss is visualized using a simple line plot.\n"
   ]
  },
  {
   "cell_type": "code",
   "execution_count": 0,
   "metadata": {
    "colab": {},
    "colab_type": "code",
    "id": "faunIknJLcX4"
   },
   "outputs": [],
   "source": [
    "def create_train_test_data(data_1, data_2, df):\n",
    "    X = np.concatenate([data_1[:, np.newaxis], data_2[:, np.newaxis]], axis=1)\n",
    "    y = df.is_duplicate.values[:, np.newaxis]\n",
    "    X_train, X_test, y_train, y_test = train_test_split(X, y, test_size=0.2, random_state=42)\n",
    "    return X_train, X_test, y_train, y_test\n",
    "\n",
    "X_train, X_test, y_train, y_test = create_train_test_data(data_1, data_2, df)"
   ]
  },
  {
   "cell_type": "markdown",
   "metadata": {
    "colab_type": "text",
    "id": "4kIXjtkBLcX6"
   },
   "source": [
    "#### Model Design\n",
    "After creating the base network, we pass input1 and input2 for question1 and question2 to the loss function. This creates the loss and then we concatenate all Siamese output1 and Siamese output2 and loss. Then we slowly tried to reduce the number of parameters in the by creating a network similar in shape of funnel which finally outputs duplicate or not.\n",
    "\n",
    "#### Training Single Layer GRU Network"
   ]
  },
  {
   "cell_type": "code",
   "execution_count": 41,
   "metadata": {
    "colab": {
     "base_uri": "https://localhost:8080/",
     "height": 706
    },
    "colab_type": "code",
    "id": "dfJMbXMoLcX7",
    "outputId": "b3857726-cf0f-4613-f831-2a72ce019d15"
   },
   "outputs": [
    {
     "name": "stdout",
     "output_type": "stream",
     "text": [
      "Train on 449896 samples, validate on 112474 samples\n",
      "Epoch 1/10\n",
      "449896/449896 [==============================] - 69s 153us/step - loss: 0.2605 - acc: 0.8322 - F1_score_: 0.8719 - precision_: 0.8409 - recall_: 0.9081 - val_loss: 0.1169 - val_acc: 0.8476 - val_F1_score_: 0.8888 - val_precision_: 0.8291 - val_recall_: 0.9584\n",
      "Epoch 2/10\n",
      "449896/449896 [==============================] - 68s 151us/step - loss: 0.1026 - acc: 0.8728 - F1_score_: 0.9021 - precision_: 0.8830 - recall_: 0.9233 - val_loss: 0.1038 - val_acc: 0.8683 - val_F1_score_: 0.9012 - val_precision_: 0.8610 - val_recall_: 0.9460\n",
      "Epoch 3/10\n",
      "449896/449896 [==============================] - 68s 151us/step - loss: 0.0932 - acc: 0.8876 - F1_score_: 0.9131 - precision_: 0.8970 - recall_: 0.9310 - val_loss: 0.1067 - val_acc: 0.8673 - val_F1_score_: 0.9020 - val_precision_: 0.8500 - val_recall_: 0.9613\n",
      "Epoch 4/10\n",
      "449896/449896 [==============================] - 68s 151us/step - loss: 0.0859 - acc: 0.8992 - F1_score_: 0.9220 - precision_: 0.9076 - recall_: 0.9376 - val_loss: 0.1057 - val_acc: 0.8709 - val_F1_score_: 0.9047 - val_precision_: 0.8522 - val_recall_: 0.9646\n",
      "Epoch 5/10\n",
      "449896/449896 [==============================] - 68s 151us/step - loss: 0.0796 - acc: 0.9089 - F1_score_: 0.9293 - precision_: 0.9166 - recall_: 0.9431 - val_loss: 0.1042 - val_acc: 0.8759 - val_F1_score_: 0.9079 - val_precision_: 0.8586 - val_recall_: 0.9638\n",
      "140593/140593 [==============================] - 19s 134us/step\n",
      "Single Layer GRU Accuracy:   0.88\n",
      "Single Layer GRU Precision:  0.86\n",
      "Single Layer GRU Recall:     0.96\n",
      "Single Layer GRU F1_Score:   0.91\n"
     ]
    },
    {
     "data": {
      "image/png": "[encoded data removed]",
      "text/plain": [
       "<Figure size 432x432 with 1 Axes>"
      ]
     },
     "metadata": {
      "tags": []
     },
     "output_type": "display_data"
    }
   ],
   "source": [
    "import warnings\n",
    "warnings.filterwarnings(\"ignore\")\n",
    "\n",
    "# Clear Keras Session\n",
    "K.clear_session()\n",
    "\n",
    "# Take in input1 and input2 as question1 and question2\n",
    "input_1 = Input(shape=(MAX_SEN_LEN,), dtype='float32')\n",
    "input_2 = Input(shape=(MAX_SEN_LEN,), dtype='float32')\n",
    "\n",
    "# Create base network for both input1 and input2\n",
    "siamese_output_1 = single_gru_network(input_1)\n",
    "siamese_output_2 = single_gru_network(input_2)\n",
    "\n",
    "# Apply weighted loss function on both outputs of siamese network\n",
    "similarity_measure = WeigthedManhattanDist()([siamese_output_1, siamese_output_2])\n",
    "# Concateneate the output and similarity measure\n",
    "siamese_output = concatenate([siamese_output_1, siamese_output_2, similarity_measure])\n",
    "# Apply dense to reduce to the number of parameters till the final layer\n",
    "dense_1 = Dense(16)(siamese_output)\n",
    "dense_2 = Dense(8)(dense_1)\n",
    "dense_3 = Dense(4)(dense_2)\n",
    "dense_4 = Dense(2)(dense_3)\n",
    "similarity = Dense(1, activation='sigmoid')(dense_4)\n",
    "\n",
    "#Create model\n",
    "single_gru_model = Model(inputs=[input_1, input_2], outputs=[similarity])\n",
    "\n",
    "# Compile the model with mean squared error and Adam optimizer\n",
    "single_gru_model.compile(loss='mean_squared_error', optimizer=Adam(), metrics=['accuracy',\n",
    "                                                                     F1_score_, \n",
    "                                                                     precision_, \n",
    "                                                                     recall_])\n",
    "\n",
    "\n",
    "# Save the model\n",
    "model_filepath = './models/single_gru_model.h5'\n",
    "\n",
    "# Create call backs to complete early stop if the change in model loss is insignificant\n",
    "# Save the model \n",
    "# Create tensorboard logs\n",
    "callbacks_list = [EarlyStopping(monitor='val_loss', patience=3, verbose=0),\n",
    "                  ModelCheckpoint(model_filepath, monitor='val_loss', verbose=0, save_best_only=True, mode='max'),\n",
    "                  TensorBoard(log_dir=\"logs/{}\".format(time()))]\n",
    "\n",
    "# Start training the model with train valid split of 4:1\n",
    "single_gru_trained = single_gru_model.fit([X_train[:, 0], X_train[:, 1]], y_train,\n",
    "                          batch_size=BATCH_SIZE, epochs=NUM_EPOCHS,\n",
    "                          validation_split=0.2, callbacks=callbacks_list, verbose=1)\n",
    "\n",
    "# Evaluate the model on test data and note the performance metrics.\n",
    "_, accuracy, f1_score, precision, recall = single_gru_model.evaluate([X_test[:, 0], X_test[:, 1]], y_test)\n",
    "\n",
    "print(\"Single Layer GRU Accuracy:   {0:.2f}\".format(accuracy))\n",
    "print(\"Single Layer GRU Precision:  {0:.2f}\".format(precision))\n",
    "print(\"Single Layer GRU Recall:     {0:.2f}\".format(recall))\n",
    "print(\"Single Layer GRU F1_Score:   {0:.2f}\".format(f1_score))\n",
    "\n",
    "# Plot the loss during training phase for each epoch.\n",
    "loss = single_gru_trained.history['loss']\n",
    "val_loss = single_gru_trained.history['val_loss']\n",
    "epochs = range(1, len(loss) + 1)\n",
    "plt.figure(figsize=(6, 6))\n",
    "plt.plot(epochs, loss, 'b', label='Training loss')\n",
    "plt.plot(epochs, val_loss, 'r', label='Validation loss')\n",
    "plt.title('Training and validation loss for single layer GRU model')\n",
    "plt.xlabel('Epochs')\n",
    "plt.ylabel('Loss')\n",
    "plt.legend()\n",
    "plt.show()"
   ]
  },
  {
   "cell_type": "markdown",
   "metadata": {
    "colab_type": "text",
    "id": "p5kV6F-aLcX-"
   },
   "source": [
    "#### Training Single Layer LSTM Network"
   ]
  },
  {
   "cell_type": "code",
   "execution_count": 42,
   "metadata": {
    "colab": {
     "base_uri": "https://localhost:8080/",
     "height": 492
    },
    "colab_type": "code",
    "id": "Q6Jkf3kxLcX_",
    "outputId": "178ea26b-d3a9-4684-8ccf-542d19b8c04b"
   },
   "outputs": [
    {
     "name": "stdout",
     "output_type": "stream",
     "text": [
      "140593/140593 [==============================] - 21s 148us/step\n",
      "Single Layer LSTM Accuracy:   0.88\n",
      "Single Layer LSTM Precision:  0.92\n",
      "Single Layer LSTM Recall:     0.89\n",
      "Single Layer LSTM F1_Score:   0.90\n"
     ]
    },
    {
     "data": {
      "image/png": "[encoded data removed]",
      "text/plain": [
       "<Figure size 432x432 with 1 Axes>"
      ]
     },
     "metadata": {
      "tags": []
     },
     "output_type": "display_data"
    }
   ],
   "source": [
    "K.clear_session()\n",
    "\n",
    "input_1 = Input(shape=(MAX_SEN_LEN,), dtype='float32')\n",
    "input_2 = Input(shape=(MAX_SEN_LEN,), dtype='float32')\n",
    "\n",
    "siamese_output_1 = single_lstm_network(input_1)\n",
    "siamese_output_2 = single_lstm_network(input_2)\n",
    "\n",
    "similarity_measure = WeigthedManhattanDist()([siamese_output_1, siamese_output_2])\n",
    "siamese_output = concatenate([siamese_output_1, siamese_output_2, similarity_measure])\n",
    "dense_1 = Dense(16)(siamese_output)\n",
    "dense_2 = Dense(8)(dense_1)\n",
    "dense_3 = Dense(4)(dense_2)\n",
    "dense_4 = Dense(2)(dense_3)\n",
    "similarity = Dense(1, activation='sigmoid')(dense_4)\n",
    "single_lstm_model = Model(inputs=[input_1, input_2], outputs=[similarity])\n",
    "single_lstm_model.compile(loss='mean_squared_error', optimizer=Adam(), metrics=['accuracy',\n",
    "                                                                     F1_score_, \n",
    "                                                                     precision_, \n",
    "                                                                     recall_])\n",
    "\n",
    "model_filepath = './models/single_lstm_model.h5'\n",
    "callbacks_list = [EarlyStopping(monitor='val_loss', patience=3, verbose=0),\n",
    "                  ModelCheckpoint(model_filepath, monitor='val_loss', verbose=0, save_best_only=True, mode='max'),\n",
    "                  TensorBoard(log_dir=\"logs/{}\".format(time()))]\n",
    "\n",
    "single_lstm_trained = single_lstm_model.fit([X_train[:, 0], X_train[:, 1]], y_train,\n",
    "                          batch_size=BATCH_SIZE, epochs=NUM_EPOCHS,\n",
    "                          validation_split=0.2, callbacks=callbacks_list, verbose=0)\n",
    "\n",
    "_, accuracy, f1_score, precision, recall = single_lstm_model.evaluate([X_test[:, 0], X_test[:, 1]], y_test)\n",
    "\n",
    "print(\"Single Layer LSTM Accuracy:   {0:.2f}\".format(accuracy))\n",
    "print(\"Single Layer LSTM Precision:  {0:.2f}\".format(precision))\n",
    "print(\"Single Layer LSTM Recall:     {0:.2f}\".format(recall))\n",
    "print(\"Single Layer LSTM F1_Score:   {0:.2f}\".format(f1_score))\n",
    "\n",
    "loss = single_lstm_trained.history['loss']\n",
    "val_loss = single_lstm_trained.history['val_loss']\n",
    "epochs = range(1, len(loss) + 1)\n",
    "plt.figure(figsize=(6, 6))\n",
    "plt.plot(epochs, loss, 'b', label='Training loss')\n",
    "plt.plot(epochs, val_loss, 'r', label='Validation loss')\n",
    "plt.title('Training and validation loss for single layer LSTM model')\n",
    "plt.xlabel('Epochs')\n",
    "plt.ylabel('Loss')\n",
    "plt.legend()\n",
    "plt.show()"
   ]
  },
  {
   "cell_type": "markdown",
   "metadata": {
    "colab_type": "text",
    "id": "jnf1sLtqLcYE"
   },
   "source": [
    "#### Training Two Layer GRU Network"
   ]
  },
  {
   "cell_type": "code",
   "execution_count": 43,
   "metadata": {
    "colab": {
     "base_uri": "https://localhost:8080/",
     "height": 492
    },
    "colab_type": "code",
    "id": "ejfn3A_6LcYH",
    "outputId": "3b731d48-65c8-4228-a5fe-13a6ce23b740"
   },
   "outputs": [
    {
     "name": "stdout",
     "output_type": "stream",
     "text": [
      "140593/140593 [==============================] - 30s 217us/step\n",
      "Two Layer GRU Accuracy:   0.89\n",
      "Two Layer GRU Precision:  0.88\n",
      "Two Layer GRU Recall:     0.96\n",
      "Two Layer GRU F1_Score:   0.91\n"
     ]
    },
    {
     "data": {
      "image/png": "[encoded data removed]",
      "text/plain": [
       "<Figure size 432x432 with 1 Axes>"
      ]
     },
     "metadata": {
      "tags": []
     },
     "output_type": "display_data"
    }
   ],
   "source": [
    "K.clear_session()\n",
    "\n",
    "input_1 = Input(shape=(MAX_SEN_LEN,), dtype='float32')\n",
    "input_2 = Input(shape=(MAX_SEN_LEN,), dtype='float32')\n",
    "\n",
    "siamese_output_1 = double_gru_network(input_1)\n",
    "siamese_output_2 = double_gru_network(input_2)\n",
    "\n",
    "similarity_measure = WeigthedManhattanDist()([siamese_output_1, siamese_output_2])\n",
    "siamese_output = concatenate([siamese_output_1, siamese_output_2, similarity_measure])\n",
    "dense_1 = Dense(16)(siamese_output)\n",
    "dense_2 = Dense(8)(dense_1)\n",
    "dense_3 = Dense(4)(dense_2)\n",
    "dense_4 = Dense(2)(dense_3)\n",
    "similarity = Dense(1, activation='sigmoid')(dense_4)\n",
    "double_gru_model = Model(inputs=[input_1, input_2], outputs=[similarity])\n",
    "double_gru_model.compile(loss='mean_squared_error', optimizer=Adam(), metrics=['accuracy',\n",
    "                                                                     F1_score_, \n",
    "                                                                     precision_, \n",
    "                                                                     recall_])\n",
    "\n",
    "model_filepath = './models/double_gru_model.h5'\n",
    "callbacks_list = [EarlyStopping(monitor='val_loss', patience=3, verbose=0),\n",
    "                  ModelCheckpoint(model_filepath, monitor='val_loss', verbose=0, save_best_only=True, mode='max'),\n",
    "                  TensorBoard(log_dir=\"logs/{}\".format(time()))]\n",
    "\n",
    "double_gru_trained = double_gru_model.fit([X_train[:, 0], X_train[:, 1]], y_train,\n",
    "                          batch_size=BATCH_SIZE, epochs=NUM_EPOCHS,\n",
    "                          validation_split=0.2, callbacks=callbacks_list, verbose=0)\n",
    "\n",
    "_, accuracy, f1_score, precision, recall = double_gru_model.evaluate([X_test[:, 0], X_test[:, 1]], y_test)\n",
    "\n",
    "print(\"Two Layer GRU Accuracy:   {0:.2f}\".format(accuracy))\n",
    "print(\"Two Layer GRU Precision:  {0:.2f}\".format(precision))\n",
    "print(\"Two Layer GRU Recall:     {0:.2f}\".format(recall))\n",
    "print(\"Two Layer GRU F1_Score:   {0:.2f}\".format(f1_score))\n",
    "\n",
    "loss = double_gru_trained.history['loss']\n",
    "val_loss = double_gru_trained.history['val_loss']\n",
    "epochs = range(1, len(loss) + 1)\n",
    "plt.figure(figsize=(6, 6))\n",
    "plt.plot(epochs, loss, 'b', label='Training loss')\n",
    "plt.plot(epochs, val_loss, 'r', label='Validation loss')\n",
    "plt.title('Training and validation loss for two layer GRU model')\n",
    "plt.xlabel('Epochs')\n",
    "plt.ylabel('Loss')\n",
    "plt.legend()\n",
    "plt.show()"
   ]
  },
  {
   "cell_type": "markdown",
   "metadata": {
    "colab_type": "text",
    "id": "2J0bqgXBLcYK"
   },
   "source": [
    "#### Training Two Layer LSTM Network"
   ]
  },
  {
   "cell_type": "code",
   "execution_count": 44,
   "metadata": {
    "colab": {
     "base_uri": "https://localhost:8080/",
     "height": 492
    },
    "colab_type": "code",
    "id": "-ITzR5WeLcYK",
    "outputId": "e5c8816d-13d8-44ea-808a-d32ebea6380e"
   },
   "outputs": [
    {
     "name": "stdout",
     "output_type": "stream",
     "text": [
      "140593/140593 [==============================] - 36s 254us/step\n",
      "Two Layer LSTM Accuracy:   0.88\n",
      "Two Layer LSTM Precision:  0.88\n",
      "Two Layer LSTM Recall:     0.94\n",
      "Two Layer LSTM F1_Score:   0.91\n"
     ]
    },
    {
     "data": {
      "image/png": "[encoded data removed]",
      "text/plain": [
       "<Figure size 432x432 with 1 Axes>"
      ]
     },
     "metadata": {
      "tags": []
     },
     "output_type": "display_data"
    }
   ],
   "source": [
    "K.clear_session()\n",
    "\n",
    "input_1 = Input(shape=(MAX_SEN_LEN,), dtype='float32')\n",
    "input_2 = Input(shape=(MAX_SEN_LEN,), dtype='float32')\n",
    "\n",
    "siamese_output_1 = double_lstm_network(input_1)\n",
    "siamese_output_2 = double_lstm_network(input_2)\n",
    "\n",
    "similarity_measure = WeigthedManhattanDist()([siamese_output_1, siamese_output_2])\n",
    "siamese_output = concatenate([siamese_output_1, siamese_output_2, similarity_measure])\n",
    "dense_1 = Dense(16)(siamese_output)\n",
    "dense_2 = Dense(8)(dense_1)\n",
    "dense_3 = Dense(4)(dense_2)\n",
    "dense_4 = Dense(2)(dense_3)\n",
    "similarity = Dense(1, activation='sigmoid')(dense_4)\n",
    "double_lstm_model = Model(inputs=[input_1, input_2], outputs=[similarity])\n",
    "double_lstm_model.compile(loss='mean_squared_error', optimizer=Adam(), metrics=['accuracy',\n",
    "                                                                     F1_score_, \n",
    "                                                                     precision_, \n",
    "                                                                     recall_])\n",
    "\n",
    "model_filepath = './models/double_lstm_model.h5'\n",
    "callbacks_list = [EarlyStopping(monitor='val_loss', patience=3, verbose=0),\n",
    "                  ModelCheckpoint(model_filepath, monitor='val_loss', verbose=0, save_best_only=True, mode='max'),\n",
    "                  TensorBoard(log_dir=\"logs/{}\".format(time()))]\n",
    "\n",
    "double_lstm_trained = double_lstm_model.fit([X_train[:, 0], X_train[:, 1]], y_train,\n",
    "                          batch_size=BATCH_SIZE, epochs=NUM_EPOCHS,\n",
    "                          validation_split=0.2, callbacks=callbacks_list, verbose=0)\n",
    "\n",
    "_, accuracy, f1_score, precision, recall = double_lstm_model.evaluate([X_test[:, 0], X_test[:, 1]], y_test)\n",
    "\n",
    "print(\"Two Layer LSTM Accuracy:   {0:.2f}\".format(accuracy))\n",
    "print(\"Two Layer LSTM Precision:  {0:.2f}\".format(precision))\n",
    "print(\"Two Layer LSTM Recall:     {0:.2f}\".format(recall))\n",
    "print(\"Two Layer LSTM F1_Score:   {0:.2f}\".format(f1_score))\n",
    "\n",
    "loss = double_lstm_trained.history['loss']\n",
    "val_loss = double_lstm_trained.history['val_loss']\n",
    "epochs = range(1, len(loss) + 1)\n",
    "plt.figure(figsize=(6, 6))\n",
    "plt.plot(epochs, loss, 'b', label='Training loss')\n",
    "plt.plot(epochs, val_loss, 'r', label='Validation loss')\n",
    "plt.title('Training and validation loss for two layer LSTM model')\n",
    "plt.xlabel('Epochs')\n",
    "plt.ylabel('Loss')\n",
    "plt.legend()\n",
    "plt.show()"
   ]
  },
  {
   "cell_type": "markdown",
   "metadata": {
    "colab_type": "text",
    "id": "LsSauyHeLcYN"
   },
   "source": [
    "#### Training Single Layer Bidirectional LSTM Network"
   ]
  },
  {
   "cell_type": "code",
   "execution_count": 45,
   "metadata": {
    "colab": {
     "base_uri": "https://localhost:8080/",
     "height": 492
    },
    "colab_type": "code",
    "id": "X6dLxdlqLcYO",
    "outputId": "9f9eb7b1-330a-4bfb-c6e9-512cc4c3fc75"
   },
   "outputs": [
    {
     "name": "stdout",
     "output_type": "stream",
     "text": [
      "140593/140593 [==============================] - 35s 248us/step\n",
      "Single Layer Bidirectional LSTM Accuracy:   0.85\n",
      "Single Layer Bidirectional LSTM Precision:  0.82\n",
      "Single Layer Bidirectional LSTM Recall:     0.99\n",
      "Single Layer Bidirectional LSTM F1_Score:   0.89\n"
     ]
    },
    {
     "data": {
      "image/png": "[encoded data removed]",
      "text/plain": [
       "<Figure size 432x432 with 1 Axes>"
      ]
     },
     "metadata": {
      "tags": []
     },
     "output_type": "display_data"
    }
   ],
   "source": [
    "K.clear_session()\n",
    "\n",
    "input_1 = Input(shape=(MAX_SEN_LEN,), dtype='float32')\n",
    "input_2 = Input(shape=(MAX_SEN_LEN,), dtype='float32')\n",
    "\n",
    "siamese_output_1 = single_bidirectional_lstm_network(input_1)\n",
    "siamese_output_2 = single_bidirectional_lstm_network(input_2)\n",
    "\n",
    "similarity_measure = WeigthedManhattanDist()([siamese_output_1, siamese_output_2])\n",
    "siamese_output = concatenate([siamese_output_1, siamese_output_2, similarity_measure])\n",
    "dense_1 = Dense(16)(siamese_output)\n",
    "dense_2 = Dense(8)(dense_1)\n",
    "dense_3 = Dense(4)(dense_2)\n",
    "dense_4 = Dense(2)(dense_3)\n",
    "similarity = Dense(1, activation='sigmoid')(dense_4)\n",
    "single_bidirectional_lstm_model = Model(inputs=[input_1, input_2], outputs=[similarity])\n",
    "single_bidirectional_lstm_model.compile(loss='mean_squared_error', optimizer=Adam(), metrics=['accuracy',\n",
    "                                                                     F1_score_, \n",
    "                                                                     precision_, \n",
    "                                                                     recall_])\n",
    "\n",
    "model_filepath = './models/single_bidirectional_lstm_model.h5'\n",
    "callbacks_list = [EarlyStopping(monitor='val_loss', patience=3, verbose=0),\n",
    "                  ModelCheckpoint(model_filepath, monitor='val_loss', verbose=0, save_best_only=True, mode='max'),\n",
    "                  TensorBoard(log_dir=\"logs/{}\".format(time()))]\n",
    "\n",
    "single_bidirectional_lstm_trained = single_bidirectional_lstm_model.fit([X_train[:, 0], X_train[:, 1]], y_train,\n",
    "                          batch_size=BATCH_SIZE, epochs=NUM_EPOCHS,\n",
    "                          validation_split=0.2, callbacks=callbacks_list, verbose=0)\n",
    "\n",
    "_, accuracy, f1_score, precision, recall = single_bidirectional_lstm_model.evaluate([X_test[:, 0], X_test[:, 1]], y_test)\n",
    "\n",
    "print(\"Single Layer Bidirectional LSTM Accuracy:   {0:.2f}\".format(accuracy))\n",
    "print(\"Single Layer Bidirectional LSTM Precision:  {0:.2f}\".format(precision))\n",
    "print(\"Single Layer Bidirectional LSTM Recall:     {0:.2f}\".format(recall))\n",
    "print(\"Single Layer Bidirectional LSTM F1_Score:   {0:.2f}\".format(f1_score))\n",
    "\n",
    "loss = single_bidirectional_lstm_trained.history['loss']\n",
    "val_loss = single_bidirectional_lstm_trained.history['val_loss']\n",
    "epochs = range(1, len(loss) + 1)\n",
    "plt.figure(figsize=(6, 6))\n",
    "plt.plot(epochs, loss, 'b', label='Training loss')\n",
    "plt.plot(epochs, val_loss, 'r', label='Validation loss')\n",
    "plt.title('Training and validation loss for single layer Bidirectional LSTM model')\n",
    "plt.xlabel('Epochs')\n",
    "plt.ylabel('Loss')\n",
    "plt.legend()\n",
    "plt.show()"
   ]
  },
  {
   "cell_type": "markdown",
   "metadata": {
    "colab_type": "text",
    "id": "VumemAFOLcYQ"
   },
   "source": [
    "#### Training Two Layer Bidirectional LSTM Network"
   ]
  },
  {
   "cell_type": "code",
   "execution_count": 46,
   "metadata": {
    "colab": {
     "base_uri": "https://localhost:8080/",
     "height": 492
    },
    "colab_type": "code",
    "id": "wdKuQPGlLcYR",
    "outputId": "24b99315-2a5c-44ab-c32c-df9bab7f6c7a"
   },
   "outputs": [
    {
     "name": "stdout",
     "output_type": "stream",
     "text": [
      "140593/140593 [==============================] - 74s 524us/step\n",
      "TWO Layer Bidirectional LSTM Accuracy:   0.88\n",
      "Two Layer Bidirectional LSTM Precision:  0.93\n",
      "Two Layer Bidirectional LSTM Recall:     0.88\n",
      "Two Layer Bidirectional LSTM F1_Score:   0.90\n"
     ]
    },
    {
     "data": {
      "image/png": "[encoded data removed]",
      "text/plain": [
       "<Figure size 432x432 with 1 Axes>"
      ]
     },
     "metadata": {
      "tags": []
     },
     "output_type": "display_data"
    }
   ],
   "source": [
    "K.clear_session()\n",
    "\n",
    "input_1 = Input(shape=(MAX_SEN_LEN,), dtype='float32')\n",
    "input_2 = Input(shape=(MAX_SEN_LEN,), dtype='float32')\n",
    "\n",
    "siamese_output_1 = double_bidirectional_lstm_network(input_1)\n",
    "siamese_output_2 = double_bidirectional_lstm_network(input_2)\n",
    "\n",
    "similarity_measure = WeigthedManhattanDist()([siamese_output_1, siamese_output_2])\n",
    "siamese_output = concatenate([siamese_output_1, siamese_output_2, similarity_measure])\n",
    "dense_1 = Dense(16)(siamese_output)\n",
    "dense_2 = Dense(8)(dense_1)\n",
    "dense_3 = Dense(4)(dense_2)\n",
    "dense_4 = Dense(2)(dense_3)\n",
    "similarity = Dense(1, activation='sigmoid')(dense_4)\n",
    "double_bidirectional_lstm_model = Model(inputs=[input_1, input_2], outputs=[similarity])\n",
    "double_bidirectional_lstm_model.compile(loss='mean_squared_error', optimizer=Adam(), metrics=['accuracy',\n",
    "                                                                     F1_score_, \n",
    "                                                                     precision_, \n",
    "                                                                     recall_])\n",
    "\n",
    "model_filepath = './models/double_bidirectional_lstm_model.h5'\n",
    "callbacks_list = [EarlyStopping(monitor='val_loss', patience=3, verbose=0),\n",
    "                  ModelCheckpoint(model_filepath, monitor='val_loss', verbose=0, save_best_only=True, mode='max'),\n",
    "                  TensorBoard(log_dir=\"logs/{}\".format(time()))]\n",
    "\n",
    "double_bidirectional_lstm_trained = double_bidirectional_lstm_model.fit([X_train[:, 0], X_train[:, 1]], y_train,\n",
    "                          batch_size=BATCH_SIZE, epochs=NUM_EPOCHS,\n",
    "                          validation_split=0.2, callbacks=callbacks_list, verbose=0)\n",
    "\n",
    "_, accuracy, f1_score, precision, recall = double_bidirectional_lstm_model.evaluate([X_test[:, 0], X_test[:, 1]], y_test)\n",
    "\n",
    "print(\"TWO Layer Bidirectional LSTM Accuracy:   {0:.2f}\".format(accuracy))\n",
    "print(\"Two Layer Bidirectional LSTM Precision:  {0:.2f}\".format(precision))\n",
    "print(\"Two Layer Bidirectional LSTM Recall:     {0:.2f}\".format(recall))\n",
    "print(\"Two Layer Bidirectional LSTM F1_Score:   {0:.2f}\".format(f1_score))\n",
    "\n",
    "loss = double_bidirectional_lstm_trained.history['loss']\n",
    "val_loss = double_bidirectional_lstm_trained.history['val_loss']\n",
    "epochs = range(1, len(loss) + 1)\n",
    "plt.figure(figsize=(6, 6))\n",
    "plt.plot(epochs, loss, 'b', label='Training loss')\n",
    "plt.plot(epochs, val_loss, 'r', label='Validation loss')\n",
    "plt.title('Training and validation loss for two layer Bidirectional LSTM model')\n",
    "plt.xlabel('Epochs')\n",
    "plt.ylabel('Loss')\n",
    "plt.legend()\n",
    "plt.show()"
   ]
  },
  {
   "cell_type": "code",
   "execution_count": 47,
   "metadata": {
    "colab": {
     "base_uri": "https://localhost:8080/",
     "height": 203
    },
    "colab_type": "code",
    "id": "g080WMAKJG_5",
    "outputId": "74d4193d-acfe-4dd8-d88b-d34da3c8f6e4"
   },
   "outputs": [
    {
     "data": {
      "text/html": [
       "<div>\n",
       "<style scoped>\n",
       "    .dataframe tbody tr th:only-of-type {\n",
       "        vertical-align: middle;\n",
       "    }\n",
       "\n",
       "    .dataframe tbody tr th {\n",
       "        vertical-align: top;\n",
       "    }\n",
       "\n",
       "    .dataframe thead th {\n",
       "        text-align: right;\n",
       "    }\n",
       "</style>\n",
       "<table border=\"1\" class=\"dataframe\">\n",
       "  <thead>\n",
       "    <tr style=\"text-align: right;\">\n",
       "      <th></th>\n",
       "      <th>question1</th>\n",
       "      <th>cleaned1</th>\n",
       "    </tr>\n",
       "  </thead>\n",
       "  <tbody>\n",
       "    <tr>\n",
       "      <th>0</th>\n",
       "      <td>What is the step by step guide to invest in sh...</td>\n",
       "      <td>step step guide invest share market india</td>\n",
       "    </tr>\n",
       "    <tr>\n",
       "      <th>1</th>\n",
       "      <td>What is the story of Kohinoor (Koh-i-Noor) Dia...</td>\n",
       "      <td>story kohinoor koh noor diamond</td>\n",
       "    </tr>\n",
       "    <tr>\n",
       "      <th>2</th>\n",
       "      <td>How can I increase the speed of my internet co...</td>\n",
       "      <td>increase speed internet connection using vpn</td>\n",
       "    </tr>\n",
       "    <tr>\n",
       "      <th>3</th>\n",
       "      <td>Why am I mentally very lonely? How can I solve...</td>\n",
       "      <td>mentally lonely solve</td>\n",
       "    </tr>\n",
       "    <tr>\n",
       "      <th>4</th>\n",
       "      <td>Which one dissolve in water quikly sugar, salt...</td>\n",
       "      <td>one dissolve water quikly sugar salt methane c...</td>\n",
       "    </tr>\n",
       "  </tbody>\n",
       "</table>\n",
       "</div>"
      ],
      "text/plain": [
       "                                           question1                                           cleaned1\n",
       "0  What is the step by step guide to invest in sh...          step step guide invest share market india\n",
       "1  What is the story of Kohinoor (Koh-i-Noor) Dia...                    story kohinoor koh noor diamond\n",
       "2  How can I increase the speed of my internet co...       increase speed internet connection using vpn\n",
       "3  Why am I mentally very lonely? How can I solve...                              mentally lonely solve\n",
       "4  Which one dissolve in water quikly sugar, salt...  one dissolve water quikly sugar salt methane c..."
      ]
     },
     "execution_count": 47,
     "metadata": {
      "tags": []
     },
     "output_type": "execute_result"
    }
   ],
   "source": [
    "df[['question1', 'cleaned1']].head()"
   ]
  }
 ],
 "metadata": {
  "accelerator": "GPU",
  "colab": {
   "name": "Copy of Final.ipynb",
   "provenance": [],
   "version": "0.3.2"
  },
  "kernelspec": {
   "display_name": "Python 3",
   "language": "python",
   "name": "python3"
  },
  "language_info": {
   "codemirror_mode": {
    "name": "ipython",
    "version": 3
   },
   "file_extension": ".py",
   "mimetype": "text/x-python",
   "name": "python",
   "nbconvert_exporter": "python",
   "pygments_lexer": "ipython3",
   "version": "3.6.5"
  }
 },
 "nbformat": 4,
 "nbformat_minor": 1
}
