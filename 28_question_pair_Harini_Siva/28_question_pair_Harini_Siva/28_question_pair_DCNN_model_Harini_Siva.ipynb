{
  "nbformat": 4,
  "nbformat_minor": 0,
  "metadata": {
    "colab": {
      "name": "question pair- DCNN_model.ipynb",
      "version": "0.3.2",
      "provenance": [],
      "collapsed_sections": [],
      "machine_shape": "hm"
    },
    "kernelspec": {
      "name": "python3",
      "display_name": "Python 3"
    },
    "accelerator": "GPU"
  },
  "cells": [
    {
      "cell_type": "markdown",
      "metadata": {
        "id": "_kf1_wKdzS6x",
        "colab_type": "text"
      },
      "source": [
        "# LEARNING OF SEMANTICALLY EQUIVALENT QUESTIONS"
      ]
    },
    {
      "cell_type": "code",
      "metadata": {
        "id": "YbHLwykwc8cP",
        "colab_type": "code",
        "outputId": "3005d28e-2efa-47a8-ad98-70b424dabeee",
        "colab": {
          "base_uri": "https://localhost:8080/",
          "height": 34
        }
      },
      "source": [
        "# importing libraries\n",
        "import keras\n",
        "import nltk\n",
        "import tensorflow as tf\n",
        "import numpy as np # linear algebra\n",
        "import pandas as pd # data processing, CSV file I/O (e.g. pd.read_csv)\n",
        "import os\n",
        "import matplotlib.pyplot as plt"
      ],
      "execution_count": 1,
      "outputs": [
        {
          "output_type": "stream",
          "text": [
            "Using TensorFlow backend.\n"
          ],
          "name": "stderr"
        }
      ]
    },
    {
      "cell_type": "code",
      "metadata": {
        "id": "1lkiMsNEgl1L",
        "colab_type": "code",
        "outputId": "bad442c8-1574-4e49-d016-df4e363144b3",
        "colab": {
          "base_uri": "https://localhost:8080/",
          "height": 122
        }
      },
      "source": [
        "# import dataset from drive\n",
        "from google.colab import drive\n",
        "drive.mount('/content/gdrive')"
      ],
      "execution_count": 2,
      "outputs": [
        {
          "output_type": "stream",
          "text": [
            "Go to this URL in a browser: https://accounts.google.com/o/oauth2/auth?client_id=947318989803-6bn6qk8qdgf4n4g3pfee6491hc0brc4i.apps.googleusercontent.com&redirect_uri=urn%3Aietf%3Awg%3Aoauth%3A2.0%3Aoob&scope=email%20https%3A%2F%2Fwww.googleapis.com%2Fauth%2Fdocs.test%20https%3A%2F%2Fwww.googleapis.com%2Fauth%2Fdrive%20https%3A%2F%2Fwww.googleapis.com%2Fauth%2Fdrive.photos.readonly%20https%3A%2F%2Fwww.googleapis.com%2Fauth%2Fpeopleapi.readonly&response_type=code\n",
            "\n",
            "Enter your authorization code:\n",
            "··········\n",
            "Mounted at /content/gdrive\n"
          ],
          "name": "stdout"
        }
      ]
    },
    {
      "cell_type": "markdown",
      "metadata": {
        "id": "xS7Ld6Mcorxz",
        "colab_type": "text"
      },
      "source": [
        "## IMPORTING DATASET FROM KAGGLE (optional)"
      ]
    },
    {
      "cell_type": "markdown",
      "metadata": {
        "id": "DExMvdW1fiIw",
        "colab_type": "text"
      },
      "source": [
        "The dataset can be downloaded from this website: https://www.kaggle.com/c/quora-question-pairs/data \n",
        "\n",
        "The below cells shows how the dataset can be extracted to the notebook from kaggle. \n",
        "To import the dataset from kaggle,\n",
        "Go to your kaggle profile, Download kaggle.json from Kaggle -- MyAccount -- Create New API Token - auto downloads as \"kaggle.json\n"
      ]
    },
    {
      "cell_type": "code",
      "metadata": {
        "id": "UbjNACXglSnM",
        "colab_type": "code",
        "outputId": "72674a31-4126-4e54-bd74-009b4439e31d",
        "colab": {
          "resources": {
            "http://localhost:8080/nbextensions/google.colab/files.js": {
              "data": "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",
              "ok": true,
              "headers": [
                [
                  "content-type",
                  "application/javascript"
                ]
              ],
              "status": 200,
              "status_text": ""
            }
          },
          "base_uri": "https://localhost:8080/",
          "height": 88
        }
      },
      "source": [
        "from google.colab import files\n",
        "\n",
        "files.upload() #this will prompt you to upload the kaggle.json to the notebook"
      ],
      "execution_count": 3,
      "outputs": [
        {
          "output_type": "display_data",
          "data": {
            "text/html": [
              "\n",
              "     <input type=\"file\" id=\"files-31682832-fbc6-4f36-859e-e5c80b7ffdbb\" name=\"files[]\" multiple disabled />\n",
              "     <output id=\"result-31682832-fbc6-4f36-859e-e5c80b7ffdbb\">\n",
              "      Upload widget is only available when the cell has been executed in the\n",
              "      current browser session. Please rerun this cell to enable.\n",
              "      </output>\n",
              "      <script src=\"/nbextensions/google.colab/files.js\"></script> "
            ],
            "text/plain": [
              "<IPython.core.display.HTML object>"
            ]
          },
          "metadata": {
            "tags": []
          }
        },
        {
          "output_type": "stream",
          "text": [
            "Saving kaggle.json to kaggle.json\n"
          ],
          "name": "stdout"
        },
        {
          "output_type": "execute_result",
          "data": {
            "text/plain": [
              "{'kaggle.json': b'{\"username\":\"hshreedhar\",\"key\":\"e96183fe90a76e704596438aec7c338b\"}'}"
            ]
          },
          "metadata": {
            "tags": []
          },
          "execution_count": 3
        }
      ]
    },
    {
      "cell_type": "code",
      "metadata": {
        "colab_type": "code",
        "id": "55PltfjkG_fM",
        "outputId": "46ac79d7-79e8-484c-98b5-ad9865522621",
        "colab": {
          "base_uri": "https://localhost:8080/",
          "height": 34
        }
      },
      "source": [
        "!pip install -q kaggle\n",
        "!mkdir -p ~/.kaggle\n",
        "!cp kaggle.json ~/.kaggle/\n",
        "!ls ~/.kaggle\n",
        "!chmod 600 /root/.kaggle/kaggle.json"
      ],
      "execution_count": 4,
      "outputs": [
        {
          "output_type": "stream",
          "text": [
            "kaggle.json\n"
          ],
          "name": "stdout"
        }
      ]
    },
    {
      "cell_type": "code",
      "metadata": {
        "id": "8v6dxoPvm4Px",
        "colab_type": "code",
        "colab": {}
      },
      "source": [
        "import os\n",
        "os.chdir('/content/gdrive/My Drive/Kaggle/kaggle-questionpair/input')"
      ],
      "execution_count": 0,
      "outputs": []
    },
    {
      "cell_type": "code",
      "metadata": {
        "id": "Wul2ZUyHjxU6",
        "colab_type": "code",
        "outputId": "197828b1-5632-46fd-e12a-5cb5f3ee423e",
        "colab": {
          "base_uri": "https://localhost:8080/",
          "height": 170
        }
      },
      "source": [
        "!kaggle competitions download -c quora-question-pairs --force"
      ],
      "execution_count": 6,
      "outputs": [
        {
          "output_type": "stream",
          "text": [
            "Downloading sample_submission.csv.zip to /content/gdrive/My Drive/Kaggle/kaggle-questionpair/input\n",
            " 20% 1.00M/4.95M [00:00<00:01, 2.20MB/s]\n",
            "100% 4.95M/4.95M [00:00<00:00, 10.1MB/s]\n",
            "Downloading train.csv.zip to /content/gdrive/My Drive/Kaggle/kaggle-questionpair/input\n",
            " 80% 17.0M/21.2M [00:01<00:04, 1.05MB/s]\n",
            "100% 21.2M/21.2M [00:01<00:00, 14.2MB/s]\n",
            "Downloading test.csv.zip to /content/gdrive/My Drive/Kaggle/kaggle-questionpair/input\n",
            " 93% 105M/112M [00:08<00:00, 10.1MB/s] \n",
            "100% 112M/112M [00:08<00:00, 13.7MB/s]\n"
          ],
          "name": "stdout"
        }
      ]
    },
    {
      "cell_type": "markdown",
      "metadata": {
        "id": "xe88SU3c3fYP",
        "colab_type": "text"
      },
      "source": [
        "# PREPARING THE DATASET"
      ]
    },
    {
      "cell_type": "code",
      "metadata": {
        "id": "is0kbWPls2DE",
        "colab_type": "code",
        "outputId": "93336441-82a1-41d6-d03f-39c268e73fbb",
        "colab": {
          "base_uri": "https://localhost:8080/",
          "height": 204
        }
      },
      "source": [
        "# Below is a sample dataset\n",
        "# Dataset for training and validation\n",
        "df = pd.read_csv('../input/train.csv') # read the CSV file \n",
        "df.head() # to vieww the first 5 contents in a file"
      ],
      "execution_count": 7,
      "outputs": [
        {
          "output_type": "execute_result",
          "data": {
            "text/html": [
              "<div>\n",
              "<style scoped>\n",
              "    .dataframe tbody tr th:only-of-type {\n",
              "        vertical-align: middle;\n",
              "    }\n",
              "\n",
              "    .dataframe tbody tr th {\n",
              "        vertical-align: top;\n",
              "    }\n",
              "\n",
              "    .dataframe thead th {\n",
              "        text-align: right;\n",
              "    }\n",
              "</style>\n",
              "<table border=\"1\" class=\"dataframe\">\n",
              "  <thead>\n",
              "    <tr style=\"text-align: right;\">\n",
              "      <th></th>\n",
              "      <th>id</th>\n",
              "      <th>qid1</th>\n",
              "      <th>qid2</th>\n",
              "      <th>question1</th>\n",
              "      <th>question2</th>\n",
              "      <th>is_duplicate</th>\n",
              "    </tr>\n",
              "  </thead>\n",
              "  <tbody>\n",
              "    <tr>\n",
              "      <th>0</th>\n",
              "      <td>0</td>\n",
              "      <td>1</td>\n",
              "      <td>2</td>\n",
              "      <td>What is the step by step guide to invest in sh...</td>\n",
              "      <td>What is the step by step guide to invest in sh...</td>\n",
              "      <td>0</td>\n",
              "    </tr>\n",
              "    <tr>\n",
              "      <th>1</th>\n",
              "      <td>1</td>\n",
              "      <td>3</td>\n",
              "      <td>4</td>\n",
              "      <td>What is the story of Kohinoor (Koh-i-Noor) Dia...</td>\n",
              "      <td>What would happen if the Indian government sto...</td>\n",
              "      <td>0</td>\n",
              "    </tr>\n",
              "    <tr>\n",
              "      <th>2</th>\n",
              "      <td>2</td>\n",
              "      <td>5</td>\n",
              "      <td>6</td>\n",
              "      <td>How can I increase the speed of my internet co...</td>\n",
              "      <td>How can Internet speed be increased by hacking...</td>\n",
              "      <td>0</td>\n",
              "    </tr>\n",
              "    <tr>\n",
              "      <th>3</th>\n",
              "      <td>3</td>\n",
              "      <td>7</td>\n",
              "      <td>8</td>\n",
              "      <td>Why am I mentally very lonely? How can I solve...</td>\n",
              "      <td>Find the remainder when [math]23^{24}[/math] i...</td>\n",
              "      <td>0</td>\n",
              "    </tr>\n",
              "    <tr>\n",
              "      <th>4</th>\n",
              "      <td>4</td>\n",
              "      <td>9</td>\n",
              "      <td>10</td>\n",
              "      <td>Which one dissolve in water quikly sugar, salt...</td>\n",
              "      <td>Which fish would survive in salt water?</td>\n",
              "      <td>0</td>\n",
              "    </tr>\n",
              "  </tbody>\n",
              "</table>\n",
              "</div>"
            ],
            "text/plain": [
              "   id  qid1  ...                                          question2 is_duplicate\n",
              "0   0     1  ...  What is the step by step guide to invest in sh...            0\n",
              "1   1     3  ...  What would happen if the Indian government sto...            0\n",
              "2   2     5  ...  How can Internet speed be increased by hacking...            0\n",
              "3   3     7  ...  Find the remainder when [math]23^{24}[/math] i...            0\n",
              "4   4     9  ...            Which fish would survive in salt water?            0\n",
              "\n",
              "[5 rows x 6 columns]"
            ]
          },
          "metadata": {
            "tags": []
          },
          "execution_count": 7
        }
      ]
    },
    {
      "cell_type": "markdown",
      "metadata": {
        "id": "DMGf8QqA0I6k",
        "colab_type": "text"
      },
      "source": [
        "We are setting the size of the training dataset in the block below. NUM_OF_SAMPLES can be changed as desired. \n",
        "\n",
        "NUM_OF_SAMPLES is the number of data points from each class. The total number of datapoints is 2*NUM_OF_SAMPLES"
      ]
    },
    {
      "cell_type": "code",
      "metadata": {
        "id": "fe2ivBk58zVd",
        "colab_type": "code",
        "outputId": "a64b51f2-f8aa-42be-9c02-8b4074f40038",
        "colab": {
          "base_uri": "https://localhost:8080/",
          "height": 34
        }
      },
      "source": [
        "# to get equal number of duplicate and non duplicate question pairs in the dataset\n",
        "NUM_OF_SAMPLES = 10000 # Using smaller sample for training set, for each subset.  \n",
        "\n",
        "df_dup = df[df['is_duplicate'] == 1]\n",
        "df_dup = df_dup[0:NUM_OF_SAMPLES]\n",
        "\n",
        "df_diff = df[df['is_duplicate'] == 0]\n",
        "df_diff = df_diff[0:NUM_OF_SAMPLES]\n",
        "\n",
        "len(df_dup)"
      ],
      "execution_count": 9,
      "outputs": [
        {
          "output_type": "execute_result",
          "data": {
            "text/plain": [
              "10000"
            ]
          },
          "metadata": {
            "tags": []
          },
          "execution_count": 9
        }
      ]
    },
    {
      "cell_type": "markdown",
      "metadata": {
        "id": "Ri2s4ro58MRi",
        "colab_type": "text"
      },
      "source": [
        "### Limiting the size of the data set for an unbiased training"
      ]
    },
    {
      "cell_type": "markdown",
      "metadata": {
        "id": "8xB0Op0-5MiS",
        "colab_type": "text"
      },
      "source": [
        "in the dataset, 60%  of the question-pairs do not have a duplicate pair and 40%  have a duplicate pair.\n",
        "We are creating a subset of the database with equal number of qustion-pair with and without duplicates for an unbiased training. Off this sub-dataset that is created, we'll use 80% for taining and 20% for validation."
      ]
    },
    {
      "cell_type": "code",
      "metadata": {
        "id": "-9efCj6uR7D7",
        "colab_type": "code",
        "colab": {}
      },
      "source": [
        "# here, we are spitting the dataset in training and validation, with 80% of the question-pair to training set and 20% for validation\n",
        "\n",
        "num_of_train = int(round(0.8*NUM_OF_SAMPLES))       # Number of samples for training\n",
        "num_of_valid = int(NUM_OF_SAMPLES - num_of_train)   # Number of samples for validation"
      ],
      "execution_count": 0,
      "outputs": []
    },
    {
      "cell_type": "code",
      "metadata": {
        "id": "ycbKw7ZkTHNJ",
        "colab_type": "code",
        "colab": {}
      },
      "source": [
        "# Choosing NUM_OF_SAMPLES random question pair for both duplicate and non-duplicate labels\n",
        "dup_indices = np.random.choice(df_dup.index,size=num_of_train)\n",
        "df_dup_train = df_dup.loc[dup_indices]\n",
        "\n",
        "rem_indices = set(df_dup.index).difference(set(dup_indices)) # Remaining indices \n",
        "dup_valid_indices = np.random.choice(list(rem_indices),num_of_valid)\n",
        "df_dup_valid = df_dup.loc[dup_valid_indices]\n",
        "\n",
        "diff_indices = np.random.choice(df_diff.index,size=num_of_train)\n",
        "df_diff_train = df_diff.loc[diff_indices]\n",
        "\n",
        "rem_indices = set(df_diff.index).difference(set(diff_indices)) # Remaining indices \n",
        "diff_valid_indices = np.random.choice(list(rem_indices),num_of_valid)\n",
        "df_diff_valid = df_diff.loc[diff_valid_indices]\n"
      ],
      "execution_count": 0,
      "outputs": []
    },
    {
      "cell_type": "code",
      "metadata": {
        "id": "5OtEZM4yUmb6",
        "colab_type": "code",
        "colab": {}
      },
      "source": [
        "# Selecting Training and Validation data points\n",
        "df_train = pd.concat([df_dup_train,df_diff_train])\n",
        "df_valid = pd.concat([df_dup_valid, df_diff_valid])\n",
        "\n",
        "df_train_label = df_dup_train['is_duplicate']\n",
        "df_train_label = df_train_label.append(df_diff_train['is_duplicate'])\n",
        "\n",
        "df_valid_label = df_dup_valid['is_duplicate']\n",
        "df_valid_label = df_valid_label.append(df_diff_valid['is_duplicate'])\n",
        "\n",
        "df_train = df_train[['question1','question2']]\n",
        "df_valid = df_valid[['question1', 'question2']]"
      ],
      "execution_count": 0,
      "outputs": []
    },
    {
      "cell_type": "markdown",
      "metadata": {
        "id": "-NpebAzw6RD1",
        "colab_type": "text"
      },
      "source": [
        "Here, we have our dataset ready for training \"df_train\" and \"df_valid\" for validation. Duplicate values are the lables"
      ]
    },
    {
      "cell_type": "code",
      "metadata": {
        "id": "I5RDGvKss9gi",
        "colab_type": "code",
        "outputId": "aca72840-20c6-4dc5-e887-5f19a3a3d9c6",
        "colab": {
          "base_uri": "https://localhost:8080/",
          "height": 34
        }
      },
      "source": [
        "# this block is to fetch the total number of duplicate questomn pair in the training set\n",
        "print('Total number of question pain in the training set: {}'.format(len(df_train)))"
      ],
      "execution_count": 13,
      "outputs": [
        {
          "output_type": "stream",
          "text": [
            "Total number of question pain in the training set: 16000\n"
          ],
          "name": "stdout"
        }
      ]
    },
    {
      "cell_type": "code",
      "metadata": {
        "id": "RJO0xN6F58wK",
        "colab_type": "code",
        "outputId": "bdfd14b8-8db9-4be2-b12c-5baca22cc733",
        "colab": {
          "base_uri": "https://localhost:8080/",
          "height": 51
        }
      },
      "source": [
        "print(df_train.shape)\n",
        "print(df_valid.shape)"
      ],
      "execution_count": 14,
      "outputs": [
        {
          "output_type": "stream",
          "text": [
            "(16000, 2)\n",
            "(4000, 2)\n"
          ],
          "name": "stdout"
        }
      ]
    },
    {
      "cell_type": "markdown",
      "metadata": {
        "id": "Kkgpyu2W8AiN",
        "colab_type": "text"
      },
      "source": [
        "### Pre-processing the questions"
      ]
    },
    {
      "cell_type": "code",
      "metadata": {
        "id": "qJaaFLjbwhl2",
        "colab_type": "code",
        "colab": {}
      },
      "source": [
        "# cleaning up of the dataset \n",
        "import re\n",
        "import string\n",
        "\n",
        "re_punc = re.compile('[%s]' % re.escape(string.punctuation))\n",
        "re_print = re.compile('[^%s]' % re.escape(string.printable))\n",
        "\n",
        "def pre_process_line (line):\n",
        "  # tokenize on white space\n",
        "  try:\n",
        "    line = line.split()\n",
        "    # convert to lowercase\n",
        "    line = [word.lower() for word in line]\n",
        "    # remove punctuation from each token\n",
        "    line = [re_punc.sub('', w) for w in line]\n",
        "    # remove non-printable chars form each token\n",
        "    line = [re_print.sub('', w) for w in line]\n",
        "    # remove tokens with numbers in them\n",
        "    line = [word for word in line if word.isalpha()]\n",
        "    return ' '.join(line)\n",
        "  except:\n",
        "    return ' '\n",
        "\n",
        "def pre_process_questions(ques):\n",
        "  df_processed = ques.copy(deep=True)\n",
        "  for i in range(ques.shape[0]):\n",
        "    line = pre_process_line(ques.iloc[i])\n",
        "    df_processed.iloc[i] = line  \n",
        "  return df_processed"
      ],
      "execution_count": 0,
      "outputs": []
    },
    {
      "cell_type": "code",
      "metadata": {
        "id": "qRHNrNaMJMyL",
        "colab_type": "code",
        "colab": {}
      },
      "source": [
        "df_train_q1 = df_train['question1'].apply(pre_process_line)\n",
        "df_train_q2 = df_train['question2'].apply(pre_process_line)\n",
        "df_valid_q1 = df_valid['question1'].apply(pre_process_line)\n",
        "df_valid_q2 = df_valid['question2'].apply(pre_process_line)\n"
      ],
      "execution_count": 0,
      "outputs": []
    },
    {
      "cell_type": "markdown",
      "metadata": {
        "id": "VIsv1xBuNNi5",
        "colab_type": "text"
      },
      "source": [
        "### Encoding the questions"
      ]
    },
    {
      "cell_type": "markdown",
      "metadata": {
        "id": "qC8qSsM5MtqG",
        "colab_type": "text"
      },
      "source": [
        "The word embedding (from q1 and q2) are split to training and validation datasets. Further, the words within the questions are encoded using one-hot-encoding"
      ]
    },
    {
      "cell_type": "code",
      "metadata": {
        "id": "NMwo3pnxKM-Z",
        "colab_type": "code",
        "colab": {}
      },
      "source": [
        "from keras.preprocessing.text import Tokenizer\n",
        "from keras.preprocessing.sequence import pad_sequences\n",
        "\n",
        "\n",
        "all_qs = df_train_q1.tolist() + df_train_q2.tolist() + df_valid_q1.tolist() + df_valid_q2.tolist()\n",
        "\n",
        "tokenizer = Tokenizer()\n",
        "tokenizer.fit_on_texts(all_qs)\n",
        "vocab_size = len(tokenizer.word_index) + 1\n",
        "encoded_qs = tokenizer.texts_to_sequences(all_qs)\n",
        "\n",
        "MAX_QUES_LEN = 300\n",
        "padded_qs = pad_sequences(encoded_qs,maxlen=MAX_QUES_LEN,padding='post')"
      ],
      "execution_count": 0,
      "outputs": []
    },
    {
      "cell_type": "code",
      "metadata": {
        "id": "ITPfQY-cRhmL",
        "colab_type": "code",
        "colab": {}
      },
      "source": [
        "# Divide the questions\n",
        "\n",
        "encoded_train_q1 = padded_qs[0:(2*num_of_train)]\n",
        "encoded_train_q2 = padded_qs[(2*num_of_train):(4*num_of_train)]\n",
        "encoded_valid_q1 = padded_qs[(4*num_of_train):(4*num_of_train+2*num_of_valid)]\n",
        "encoded_valid_q2 = padded_qs[(4*num_of_train+2*num_of_valid):]\n"
      ],
      "execution_count": 0,
      "outputs": []
    },
    {
      "cell_type": "code",
      "metadata": {
        "id": "wr-0_LmYWJUv",
        "colab_type": "code",
        "outputId": "7a21f49d-40ce-4a1a-f059-7f11589a61e4",
        "colab": {
          "base_uri": "https://localhost:8080/",
          "height": 34
        }
      },
      "source": [
        "encoded_valid_q1.shape"
      ],
      "execution_count": 20,
      "outputs": [
        {
          "output_type": "execute_result",
          "data": {
            "text/plain": [
              "(4000, 300)"
            ]
          },
          "metadata": {
            "tags": []
          },
          "execution_count": 20
        }
      ]
    },
    {
      "cell_type": "markdown",
      "metadata": {
        "id": "wkywpOTxHtOs",
        "colab_type": "text"
      },
      "source": [
        "### Initializing Embedding layer using GloVe "
      ]
    },
    {
      "cell_type": "code",
      "metadata": {
        "id": "lXTe2FnjhV7N",
        "colab_type": "code",
        "outputId": "88fb98ed-d35e-4c9f-8936-7b89617043b4",
        "colab": {
          "base_uri": "https://localhost:8080/",
          "height": 71
        }
      },
      "source": [
        "import gensim\n",
        "from gensim.test.utils import datapath, get_tmpfile\n",
        "from gensim.models import KeyedVectors\n",
        "from gensim.scripts.glove2word2vec import glove2word2vec\n",
        "\n",
        "glove_file = datapath('/content/gdrive/My Drive/NLP- Deep Learning/glove.6B.300d.txt')\n",
        "word2vec_glove_file = get_tmpfile(\"glove.6B.300d.word2vec.txt\")\n",
        "glove2word2vec(glove_file, word2vec_glove_file)\n",
        "WORD2VEC = KeyedVectors.load_word2vec_format(word2vec_glove_file)\n"
      ],
      "execution_count": 21,
      "outputs": [
        {
          "output_type": "stream",
          "text": [
            "/usr/local/lib/python3.6/dist-packages/smart_open/smart_open_lib.py:398: UserWarning: This function is deprecated, use smart_open.open instead. See the migration notes for details: https://github.com/RaRe-Technologies/smart_open/blob/master/README.rst#migrating-to-the-new-open-function\n",
            "  'See the migration notes for details: %s' % _MIGRATION_NOTES_URL\n"
          ],
          "name": "stderr"
        }
      ]
    },
    {
      "cell_type": "code",
      "metadata": {
        "id": "GlmNd0whiSL4",
        "colab_type": "code",
        "colab": {}
      },
      "source": [
        "EMBEDDING_DIM = 300 # embedding dimentions are set to 300 as we are training on a 300 dimention word vector\n",
        "\n",
        "def embeddings_init(shape,dtype=None):\n",
        "    embedding_matrix = np.zeros((vocab_size,EMBEDDING_DIM))\n",
        "    not_present = []\n",
        "    for word, idx in tokenizer.word_index.items():\n",
        "      try:\n",
        "        vec = WORD2VEC[word]\n",
        "        if vec is not None:\n",
        "          embedding_matrix[idx] = vec\n",
        "      except:\n",
        "        not_present.append(word)\n",
        "        continue\n",
        "    print(len(not_present))\n",
        "    return embedding_matrix\n",
        "  "
      ],
      "execution_count": 0,
      "outputs": []
    },
    {
      "cell_type": "markdown",
      "metadata": {
        "id": "5KIZ44JxR0-u",
        "colab_type": "text"
      },
      "source": [
        "# TRAIN THE MODEL"
      ]
    },
    {
      "cell_type": "code",
      "metadata": {
        "id": "-wH9b9NZR-fA",
        "colab_type": "code",
        "colab": {}
      },
      "source": [
        "import keras\n",
        "from keras import backend as K\n",
        "from keras.layers import Input, Dense, Conv1D, MaxPooling1D, Flatten, Embedding\n",
        "from keras import models\n",
        "from keras.optimizers import SGD"
      ],
      "execution_count": 0,
      "outputs": []
    },
    {
      "cell_type": "code",
      "metadata": {
        "id": "uPzy5pLBSdIl",
        "colab_type": "code",
        "colab": {}
      },
      "source": [
        "def get_siamese_model(input_shape):\n",
        "  \"\"\"\n",
        "    Model architecture\n",
        "  \"\"\"\n",
        "    \n",
        "  q1_input = Input(input_shape)\n",
        "  q2_input = Input(input_shape)\n",
        "\n",
        "  model = models.Sequential()\n",
        "\n",
        "  model.add(Embedding(vocab_size,EMBEDDING_DIM,input_length=MAX_QUES_LEN,\n",
        "                      embeddings_initializer=embeddings_init))\n",
        "\n",
        "  # 1st is a conv layer with max-pooling with 300 neurons with kernel size as 15\n",
        "  model.add(Conv1D(300, 15,activation='tanh')) # Conv1D\n",
        "  model.add(MaxPooling1D(pool_size=2))\n",
        "           \n",
        "  # next will ne deep network of 3 fully-connected layer with 50 neuron each\n",
        "\n",
        "  model.add(Dense(50, activation='tanh'))\n",
        "  model.add(Dense(50, activation='tanh'))\n",
        "  model.add(Dense(50, activation ='tanh'))\n",
        "  \n",
        "  # Generate the encodings (feature vectors) for the two images\n",
        "  model_q1 = model(q1_input)\n",
        "  model_q2 = model(q2_input)\n",
        "  \n",
        "  # concatenating the outputs from the 2 model-layers of the siamese network \n",
        "  concat = keras.layers.Concatenate()([model_q1, model_q2])\n",
        "  flatcat = Flatten()(concat)\n",
        "  \n",
        "  # Add a dense layer with sigmoid to generate the similarity score\n",
        "  prediction = Dense(1,activation='tanh')(flatcat)\n",
        "\n",
        "  # Connect the inputs with the outputs\n",
        "  siamese_net = models.Model(inputs=[q1_input, q2_input],outputs=prediction)\n",
        "\n",
        "  return siamese_net,model"
      ],
      "execution_count": 0,
      "outputs": []
    },
    {
      "cell_type": "code",
      "metadata": {
        "id": "dR8jMpKiShbJ",
        "colab_type": "code",
        "outputId": "32f1319a-2bf5-4d0e-abd7-c8f578eba9a1",
        "colab": {
          "base_uri": "https://localhost:8080/",
          "height": 887
        }
      },
      "source": [
        "# creating the network\n",
        "siamese_net, seqmodel = get_siamese_model((MAX_QUES_LEN,))\n",
        "siamese_net.summary()\n",
        "seqmodel.summary()"
      ],
      "execution_count": 25,
      "outputs": [
        {
          "output_type": "stream",
          "text": [
            "WARNING: Logging before flag parsing goes to stderr.\n",
            "W0805 03:39:46.018667 140377308571520 deprecation_wrapper.py:119] From /usr/local/lib/python3.6/dist-packages/keras/backend/tensorflow_backend.py:74: The name tf.get_default_graph is deprecated. Please use tf.compat.v1.get_default_graph instead.\n",
            "\n",
            "W0805 03:39:46.067380 140377308571520 deprecation_wrapper.py:119] From /usr/local/lib/python3.6/dist-packages/keras/backend/tensorflow_backend.py:517: The name tf.placeholder is deprecated. Please use tf.compat.v1.placeholder instead.\n",
            "\n",
            "W0805 03:39:46.261919 140377308571520 deprecation_wrapper.py:119] From /usr/local/lib/python3.6/dist-packages/keras/backend/tensorflow_backend.py:4138: The name tf.random_uniform is deprecated. Please use tf.random.uniform instead.\n",
            "\n",
            "W0805 03:39:46.294217 140377308571520 deprecation_wrapper.py:119] From /usr/local/lib/python3.6/dist-packages/keras/backend/tensorflow_backend.py:3976: The name tf.nn.max_pool is deprecated. Please use tf.nn.max_pool2d instead.\n",
            "\n"
          ],
          "name": "stderr"
        },
        {
          "output_type": "stream",
          "text": [
            "2119\n",
            "__________________________________________________________________________________________________\n",
            "Layer (type)                    Output Shape         Param #     Connected to                     \n",
            "==================================================================================================\n",
            "input_1 (InputLayer)            (None, 300)          0                                            \n",
            "__________________________________________________________________________________________________\n",
            "input_2 (InputLayer)            (None, 300)          0                                            \n",
            "__________________________________________________________________________________________________\n",
            "sequential_1 (Sequential)       (None, 143, 50)      6479450     input_1[0][0]                    \n",
            "                                                                 input_2[0][0]                    \n",
            "__________________________________________________________________________________________________\n",
            "concatenate_1 (Concatenate)     (None, 143, 100)     0           sequential_1[1][0]               \n",
            "                                                                 sequential_1[2][0]               \n",
            "__________________________________________________________________________________________________\n",
            "flatten_1 (Flatten)             (None, 14300)        0           concatenate_1[0][0]              \n",
            "__________________________________________________________________________________________________\n",
            "dense_4 (Dense)                 (None, 1)            14301       flatten_1[0][0]                  \n",
            "==================================================================================================\n",
            "Total params: 6,493,751\n",
            "Trainable params: 6,493,751\n",
            "Non-trainable params: 0\n",
            "__________________________________________________________________________________________________\n",
            "_________________________________________________________________\n",
            "Layer (type)                 Output Shape              Param #   \n",
            "=================================================================\n",
            "embedding_1 (Embedding)      (None, 300, 300)          5109000   \n",
            "_________________________________________________________________\n",
            "conv1d_1 (Conv1D)            (None, 286, 300)          1350300   \n",
            "_________________________________________________________________\n",
            "max_pooling1d_1 (MaxPooling1 (None, 143, 300)          0         \n",
            "_________________________________________________________________\n",
            "dense_1 (Dense)              (None, 143, 50)           15050     \n",
            "_________________________________________________________________\n",
            "dense_2 (Dense)              (None, 143, 50)           2550      \n",
            "_________________________________________________________________\n",
            "dense_3 (Dense)              (None, 143, 50)           2550      \n",
            "=================================================================\n",
            "Total params: 6,479,450\n",
            "Trainable params: 6,479,450\n",
            "Non-trainable params: 0\n",
            "_________________________________________________________________\n"
          ],
          "name": "stdout"
        }
      ]
    },
    {
      "cell_type": "markdown",
      "metadata": {
        "id": "xLcu0yu-kLKw",
        "colab_type": "text"
      },
      "source": [
        "# FIT THE DATA"
      ]
    },
    {
      "cell_type": "code",
      "metadata": {
        "id": "_TMPJJfYiJum",
        "colab_type": "code",
        "outputId": "b572eb3b-1efd-41da-f0ef-06f2de288b38",
        "colab": {
          "base_uri": "https://localhost:8080/",
          "height": 836
        }
      },
      "source": [
        "# Define optimiser, learning rate\n",
        "optimizer = SGD(lr = 0.01) \n",
        "siamese_net.compile(loss=\"mean_squared_error\",optimizer=optimizer,metrics=['accuracy'])\n",
        "history = siamese_net.fit([encoded_train_q1,encoded_train_q2], df_train_label, validation_data=([encoded_valid_q1,encoded_valid_q2],df_valid_label),epochs=20, verbose=2, batch_size=64)"
      ],
      "execution_count": 26,
      "outputs": [
        {
          "output_type": "stream",
          "text": [
            "W0805 03:39:50.902232 140377308571520 deprecation_wrapper.py:119] From /usr/local/lib/python3.6/dist-packages/keras/optimizers.py:790: The name tf.train.Optimizer is deprecated. Please use tf.compat.v1.train.Optimizer instead.\n",
            "\n",
            "W0805 03:39:51.193379 140377308571520 deprecation_wrapper.py:119] From /usr/local/lib/python3.6/dist-packages/keras/backend/tensorflow_backend.py:986: The name tf.assign_add is deprecated. Please use tf.compat.v1.assign_add instead.\n",
            "\n",
            "W0805 03:39:51.259613 140377308571520 deprecation_wrapper.py:119] From /usr/local/lib/python3.6/dist-packages/keras/backend/tensorflow_backend.py:973: The name tf.assign is deprecated. Please use tf.compat.v1.assign instead.\n",
            "\n"
          ],
          "name": "stderr"
        },
        {
          "output_type": "stream",
          "text": [
            "Train on 16000 samples, validate on 4000 samples\n",
            "Epoch 1/20\n",
            " - 22s - loss: 0.2373 - acc: 0.5990 - val_loss: 0.2351 - val_acc: 0.5992\n",
            "Epoch 2/20\n",
            " - 15s - loss: 0.2222 - acc: 0.6422 - val_loss: 0.2305 - val_acc: 0.6170\n",
            "Epoch 3/20\n",
            " - 15s - loss: 0.2113 - acc: 0.6691 - val_loss: 0.2293 - val_acc: 0.6138\n",
            "Epoch 4/20\n",
            " - 16s - loss: 0.1998 - acc: 0.6974 - val_loss: 0.2265 - val_acc: 0.6338\n",
            "Epoch 5/20\n",
            " - 16s - loss: 0.1871 - acc: 0.7258 - val_loss: 0.2260 - val_acc: 0.6392\n",
            "Epoch 6/20\n",
            " - 16s - loss: 0.1748 - acc: 0.7508 - val_loss: 0.2304 - val_acc: 0.6395\n",
            "Epoch 7/20\n",
            " - 16s - loss: 0.1601 - acc: 0.7794 - val_loss: 0.2323 - val_acc: 0.6415\n",
            "Epoch 8/20\n",
            " - 16s - loss: 0.1432 - acc: 0.8158 - val_loss: 0.2405 - val_acc: 0.6325\n",
            "Epoch 9/20\n",
            " - 16s - loss: 0.1276 - acc: 0.8435 - val_loss: 0.2480 - val_acc: 0.6272\n",
            "Epoch 10/20\n",
            " - 16s - loss: 0.1109 - acc: 0.8740 - val_loss: 0.2521 - val_acc: 0.6225\n",
            "Epoch 11/20\n",
            " - 16s - loss: 0.0949 - acc: 0.8994 - val_loss: 0.2644 - val_acc: 0.6175\n",
            "Epoch 12/20\n",
            " - 16s - loss: 0.0819 - acc: 0.9193 - val_loss: 0.2650 - val_acc: 0.6148\n",
            "Epoch 13/20\n",
            " - 16s - loss: 0.0695 - acc: 0.9374 - val_loss: 0.2666 - val_acc: 0.5980\n",
            "Epoch 14/20\n",
            " - 16s - loss: 0.0574 - acc: 0.9546 - val_loss: 0.2720 - val_acc: 0.6038\n",
            "Epoch 15/20\n",
            " - 16s - loss: 0.0480 - acc: 0.9647 - val_loss: 0.2879 - val_acc: 0.5958\n",
            "Epoch 16/20\n",
            " - 16s - loss: 0.0402 - acc: 0.9734 - val_loss: 0.2891 - val_acc: 0.6012\n",
            "Epoch 17/20\n",
            " - 16s - loss: 0.0329 - acc: 0.9811 - val_loss: 0.3126 - val_acc: 0.5948\n",
            "Epoch 18/20\n",
            " - 16s - loss: 0.0277 - acc: 0.9857 - val_loss: 0.2973 - val_acc: 0.5975\n",
            "Epoch 19/20\n",
            " - 16s - loss: 0.0243 - acc: 0.9881 - val_loss: 0.3080 - val_acc: 0.5885\n",
            "Epoch 20/20\n",
            " - 16s - loss: 0.0201 - acc: 0.9918 - val_loss: 0.3030 - val_acc: 0.5847\n"
          ],
          "name": "stdout"
        }
      ]
    },
    {
      "cell_type": "code",
      "metadata": {
        "id": "mYJfRofo2lnA",
        "colab_type": "code",
        "outputId": "96d06386-bf87-4031-b903-04a8cbdc5f3e",
        "colab": {
          "base_uri": "https://localhost:8080/",
          "height": 68
        }
      },
      "source": [
        "print('Number of training samples = {}'.format(num_of_train))\n",
        "print('Number of validation samples = {}'.format(num_of_valid))\n",
        "print('Vocabulary size = {}'.format(vocab_size))"
      ],
      "execution_count": 27,
      "outputs": [
        {
          "output_type": "stream",
          "text": [
            "Number of training samples = 8000\n",
            "Number of validation samples = 2000\n",
            "Vocabulary size = 17030\n"
          ],
          "name": "stdout"
        }
      ]
    },
    {
      "cell_type": "markdown",
      "metadata": {
        "id": "81LHCM-BVkgV",
        "colab_type": "text"
      },
      "source": [
        "# PLOT GRAPHS"
      ]
    },
    {
      "cell_type": "code",
      "metadata": {
        "id": "YEHNI0ViVnYg",
        "colab_type": "code",
        "outputId": "c30ebcd7-499e-4503-c917-a73a989fdbf7",
        "colab": {
          "base_uri": "https://localhost:8080/",
          "height": 295
        }
      },
      "source": [
        "# Plotting training and validation loss (from lecture 2 notes)\n",
        "loss = history.history['loss']\n",
        "val_loss = history.history['val_loss']\n",
        "epochs = range(1,len(loss)+1)\n",
        "\n",
        "plt.plot(epochs, loss, 'bo', label='Training loss')\n",
        "plt.plot(epochs, val_loss, 'b', label='Validation loss')\n",
        "plt.title('Training and validation loss')\n",
        "plt.xlabel('Epochs')\n",
        "plt.ylabel('Loss')\n",
        "plt.legend()\n",
        "plt.show()"
      ],
      "execution_count": 28,
      "outputs": [
        {
          "output_type": "display_data",
          "data": {
            "image/png": "[encoded data removed]",
            "text/plain": [
              "<Figure size 432x288 with 1 Axes>"
            ]
          },
          "metadata": {
            "tags": []
          }
        }
      ]
    },
    {
      "cell_type": "code",
      "metadata": {
        "id": "12G9oQMXVwZ1",
        "colab_type": "code",
        "outputId": "93062477-3223-46f9-8daa-f0f7cb133265",
        "colab": {
          "base_uri": "https://localhost:8080/",
          "height": 295
        }
      },
      "source": [
        "# Plotting training and validation accuracy (from lecture 2 notes)\n",
        "acc = history.history['acc']\n",
        "val_acc = history.history['val_acc']\n",
        "epochs = range(1,len(acc)+1)\n",
        "\n",
        "plt.plot(epochs, acc, 'bo', label='Training acc')\n",
        "plt.plot(epochs, val_acc, 'b', label='Validation acc')\n",
        "plt.title('Training and validation accuracy')\n",
        "plt.xlabel('Epochs')\n",
        "plt.ylabel('Accuracy')\n",
        "plt.legend()\n",
        "\n",
        "plt.show()"
      ],
      "execution_count": 29,
      "outputs": [
        {
          "output_type": "display_data",
          "data": {
            "image/png": "[encoded data removed]",
            "text/plain": [
              "<Figure size 432x288 with 1 Axes>"
            ]
          },
          "metadata": {
            "tags": []
          }
        }
      ]
    }
  ]
}